{
 "cells": [
  {
   "cell_type": "markdown",
   "metadata": {},
   "source": [
    "# Quasar Redshift Estimates with Redrock. DESI simulated Spectra\n",
    "\n",
    "The goal of this notebook is to generate a set of quasar spectra simulations, that are then analized with redrock to obtain the \n",
    "redshift.  \n",
    "We assume that desi code is installed as described in :\n",
    "https://desi.lbl.gov/trac/wiki/Pipeline/GettingStarted/Laptop/JuneMeeting\n",
    "The only identified issue is with astropy v2, this should be downgraded to v1.3.3, after installing healpy. If installed before, healpy will upgrade again and then functions dealing with writting fits files will complain.\n",
    "\n",
    "TODO:Check that there is a warning when calling the new_exposure funcion..\n",
    "\n",
    "First we import the basic modules we need. "
   ]
  },
  {
   "cell_type": "code",
   "execution_count": 2,
   "metadata": {},
   "outputs": [
    {
     "name": "stdout",
     "output_type": "stream",
     "text": [
      "Populating the interactive namespace from numpy and matplotlib\n"
     ]
    }
   ],
   "source": [
    "import os\n",
    "%pylab inline\n",
    "\n",
    "\n",
    "import numpy as np\n",
    "from astropy.io import fits\n",
    "from astropy.table import Table\n",
    "import desispec.io\n",
    "import desisim.io\n",
    "from desisim.obs import new_exposure\n",
    "from desisim.scripts import quickgen\n",
    "from desispec.scripts import group_spectra\n",
    "\n",
    "import matplotlib.pyplot as plt\n",
    "\n"
   ]
  },
  {
   "cell_type": "markdown",
   "metadata": {},
   "source": [
    "## Environment variables and data\n",
    "\n",
    "We will specify the enviroment variables, specially where to find the DESI spectra templates, and where do we want to save the simulated spectra. Then check enviroment variables. I assumes the desi enviroment is already set. "
   ]
  },
  {
   "cell_type": "code",
   "execution_count": 4,
   "metadata": {},
   "outputs": [
    {
     "name": "stdout",
     "output_type": "stream",
     "text": [
      "DESIMODEL environment set to /Users/alma/Dropbox/desi/code/desimodel\n",
      "DESI_ROOT environment set to /Users/alma/Dropbox/desi\n",
      "DESI_SPECTRO_SIM environment set to /Users/alma/Dropbox/desi/spectro/sim\n",
      "DESI_SPECTRO_DATA environment set to /Users/alma/Dropbox/desi/spectro/sim/test_qso/\n",
      "DESI_SPECTRO_REDUX environment set to /Users/alma/Dropbox/desi/spectro/redux\n",
      "SPECPROD environment set to test_qso\n",
      "PIXPROD environment set to test_qso\n",
      "env: SPECPROD=test_qso_only\n",
      "env: PIXPROD=test_qso_only\n",
      "env: DESI_SPECTRO_DATA=/Users/alma/Dropbox/desi/spectro/sim/test_qso_only/\n",
      "Simulated raw data will be written to /Users/alma/Dropbox/desi/spectro/sim/test_qso_only/\n",
      "Pipeline will read raw data from /Users/alma/Dropbox/desi/spectro/sim/test_qso_only/\n",
      "    (without knowing that it was simulated)\n",
      "Pipeline will write processed data to /Users/alma/Dropbox/desi/spectro/redux/test_qso_only\n"
     ]
    }
   ],
   "source": [
    "def check_env():\n",
    "    for env in ('DESIMODEL', 'DESI_ROOT', 'DESI_SPECTRO_SIM', 'DESI_SPECTRO_DATA', \n",
    "            'DESI_SPECTRO_REDUX', 'SPECPROD', 'PIXPROD'):\n",
    "        if env in os.environ:\n",
    "            print('{} environment set to {}'.format(env, os.getenv(env)))\n",
    "        else:\n",
    "            print('Required environment variable {} not set!'.format(env))\n",
    "check_env()\n",
    "%set_env SPECPROD=test_qso_only\n",
    "%set_env PIXPROD=test_qso_only\n",
    "rawdata_dir = desisim.io.simdir()\n",
    "%set_env DESI_SPECTRO_DATA=$rawdata_dir\n",
    "\n",
    "print('Simulated raw data will be written to {}'.format(desisim.io.simdir()))\n",
    "print('Pipeline will read raw data from {}'.format(desispec.io.rawdata_root()))\n",
    "print('    (without knowing that it was simulated)')\n",
    "print('Pipeline will write processed data to {}'.format(desispec.io.specprod_root()))"
   ]
  },
  {
   "cell_type": "markdown",
   "metadata": {},
   "source": [
    "# Generate Noisless Spectra. \n",
    "We will use the \"new_exposure\" function to generate noiseless spectra, this requires the following parameters: "
   ]
  },
  {
   "cell_type": "code",
   "execution_count": 5,
   "metadata": {
    "collapsed": true
   },
   "outputs": [],
   "source": [
    "# Here we are  genereting 1000 quasar spectra, the seed and night are set to date, so that we know when this was generated \n",
    "# and can be reproduced. \n",
    "nspec = 100\n",
    "seed = 20171105\n",
    "flavor = 'QSO'     ##Change to QSO, if one wants to mainly generate QSO's   \n",
    "night = '20171105'\n",
    "expid = 0\n",
    "#It will geneterate some stars according to modelin os.getenv('DESIMODEL')+'/data/spectra/spec-sky.dat'"
   ]
  },
  {
   "cell_type": "code",
   "execution_count": 8,
   "metadata": {},
   "outputs": [
    {
     "name": "stdout",
     "output_type": "stream",
     "text": [
      "INFO:io.py:625:read_basis_templates: Reading /Users/alma/Dropbox/desi/spectro/templates/basis_templates/v2.3/star_templates_v2.1.fits\n",
      "INFO:io.py:625:read_basis_templates: Reading /Users/alma/Dropbox/desi/spectro/templates/basis_templates/v2.3/star_templates_v2.1.fits\n"
     ]
    },
    {
     "name": "stderr",
     "output_type": "stream",
     "text": [
      "/Users/alma/miniconda3/envs/desi/lib/python3.5/site-packages/desisim-0.19.0-py3.5.egg/desisim/targets.py:426: RuntimeWarning: invalid value encountered in log10\n",
      "  wise = 22.5-2.5*np.log10(meta['WISE_FLUX'].data)\n",
      "/Users/alma/miniconda3/envs/desi/lib/python3.5/site-packages/desisim-0.19.0-py3.5.egg/desisim/targets.py:426: RuntimeWarning: invalid value encountered in log10\n",
      "  wise = 22.5-2.5*np.log10(meta['WISE_FLUX'].data)\n"
     ]
    },
    {
     "name": "stdout",
     "output_type": "stream",
     "text": [
      "INFO:obs.py:226:new_exposure: skyfile /Users/alma/Dropbox/desi/code/desimodel/data/spectra/spec-sky.dat\n",
      "INFO:obs.py:297:new_exposure: Wrote /Users/alma/Dropbox/desi/spectro/sim/test_qso_only/20171105/fibermap-00000000.fits\n",
      "INFO:obs.py:305:new_exposure: Wrote /Users/alma/Dropbox/desi/spectro/sim/test_qso_only/20171105/simspec-00000000.fits\n"
     ]
    }
   ],
   "source": [
    "fibermap, truth = new_exposure(flavor=flavor, nspec=nspec, seed=seed, night=night, \n",
    "                               expid=expid)"
   ]
  },
  {
   "cell_type": "markdown",
   "metadata": {},
   "source": [
    "Now that the fiber and simspec files were generated we proceed to simulate de spectra using quickgen function.\n",
    "NOTE: The quickspectra function is in github, but for some reason I can not see it from my instalation, I'll check if it is available in  NERSC. "
   ]
  },
  {
   "cell_type": "markdown",
   "metadata": {},
   "source": [
    "\n"
   ]
  },
  {
   "cell_type": "code",
   "execution_count": 7,
   "metadata": {},
   "outputs": [
    {
     "name": "stdout",
     "output_type": "stream",
     "text": [
      "Reading simspec file /Users/alma/Dropbox/desi/spectro/sim/test_qso/20171105/simspec-00000000.fits.\n"
     ]
    }
   ],
   "source": []
  },
  {
   "cell_type": "markdown",
   "metadata": {},
   "source": [
    "##Uncomment this lines if you want to plot the redshift distribution generated by the new_exposure function\n",
    "\n",
    "print('Reading fibermap file {}'.format(fiberfile))\n",
    "hdu = fits.open(fiberfile)\n",
    "fibermap = Table(hdu['FIBERMAP'].data)\n",
    "hdu.close()\n",
    "print('Reading simspec file {}.'.format(simspecfile))\n",
    "hdu = fits.open(simspecfile)\n",
    "meta = Table(hdu['METADATA'].data)\n",
    "hdu.close()\n",
    "allobjtype = meta['OBJTYPE']\n",
    "redlim = (-0.2, 1.1*meta['REDSHIFT'].max())\n",
    "fig, ax = plt.subplots()\n",
    "for objtype in sorted(set(allobjtype)):\n",
    "    indx = objtype == allobjtype\n",
    "    hh = ax.hist(meta['REDSHIFT'][indx], bins=25, \n",
    "                 label=objtype, alpha=0.5, range=redlim)\n",
    "    \n",
    "ax.set_xlabel('Redshift')\n",
    "ax.set_ylabel('Number of Simulated Spectra')\n",
    "ax.legend(loc='upper right', ncol=3)\n",
    "ax.margins(0.2)\n",
    "ax.set_xlim(redlim)"
   ]
  },
  {
   "cell_type": "code",
   "execution_count": 11,
   "metadata": {},
   "outputs": [
    {
     "name": "stdout",
     "output_type": "stream",
     "text": [
      "WARNING:log.py:19:get_logger: desispec.log is deprecated, please use desiutil.log.\n",
      "WARNING:log.py:19:get_logger: desispec.log is deprecated, please use desiutil.log.\n",
      "INFO:quickgen.py:242:main: Reading fibermap file /Users/alma/Dropbox/desi/spectro/sim/test_qso_only/20171105/fibermap-00000000.fits\n",
      "INFO:quickgen.py:275:main: Initializing SpecSim with config desi\n",
      "INFO:quickgen.py:281:main: Reading input file /Users/alma/Dropbox/desi/spectro/sim/test_qso_only/20171105/simspec-00000000.fits\n"
     ]
    },
    {
     "name": "stderr",
     "output_type": "stream",
     "text": [
      "/Users/alma/miniconda3/envs/desi/lib/python3.5/site-packages/astropy/table/column.py:1096: MaskedArrayFutureWarning: setting an item on a masked array which has a shared mask will not copy the mask and also change the original mask array in the future.\n",
      "Check the NumPy 1.11 release notes for more information.\n",
      "  ma.MaskedArray.__setitem__(self, index, value)\n"
     ]
    },
    {
     "name": "stdout",
     "output_type": "stream",
     "text": [
      "INFO:quickgen.py:672:main: Writing files for channel:b, spectrograph:0, spectra:0 to 100\n",
      "INFO:quickgen.py:699:main: Wrote file /Users/alma/Dropbox/desi/spectro/redux/test_qso_only/exposures/20171105/00000000/frame-b0-00000000.fits\n",
      "INFO:quickgen.py:717:main: Wrote file /Users/alma/Dropbox/desi/spectro/redux/test_qso_only/exposures/20171105/00000000/cframe-b0-00000000.fits\n",
      "INFO:quickgen.py:732:main: Wrote file /Users/alma/Dropbox/desi/spectro/redux/test_qso_only/exposures/20171105/00000000/sky-b0-00000000.fits\n",
      "INFO:quickgen.py:753:main: Wrote file /Users/alma/Dropbox/desi/spectro/redux/test_qso_only/exposures/20171105/00000000/calib-b0-00000000.fits\n",
      "INFO:quickgen.py:672:main: Writing files for channel:r, spectrograph:0, spectra:0 to 100\n"
     ]
    },
    {
     "name": "stderr",
     "output_type": "stream",
     "text": [
      "WARNING: VerifyWarning: Card is too long, comment will be truncated. [astropy.io.fits.card]\n"
     ]
    },
    {
     "name": "stdout",
     "output_type": "stream",
     "text": [
      "INFO:quickgen.py:699:main: Wrote file /Users/alma/Dropbox/desi/spectro/redux/test_qso_only/exposures/20171105/00000000/frame-r0-00000000.fits\n",
      "INFO:quickgen.py:717:main: Wrote file /Users/alma/Dropbox/desi/spectro/redux/test_qso_only/exposures/20171105/00000000/cframe-r0-00000000.fits\n",
      "INFO:quickgen.py:732:main: Wrote file /Users/alma/Dropbox/desi/spectro/redux/test_qso_only/exposures/20171105/00000000/sky-r0-00000000.fits\n",
      "INFO:quickgen.py:753:main: Wrote file /Users/alma/Dropbox/desi/spectro/redux/test_qso_only/exposures/20171105/00000000/calib-r0-00000000.fits\n",
      "INFO:quickgen.py:672:main: Writing files for channel:z, spectrograph:0, spectra:0 to 100\n",
      "INFO:quickgen.py:699:main: Wrote file /Users/alma/Dropbox/desi/spectro/redux/test_qso_only/exposures/20171105/00000000/frame-z0-00000000.fits\n",
      "INFO:quickgen.py:717:main: Wrote file /Users/alma/Dropbox/desi/spectro/redux/test_qso_only/exposures/20171105/00000000/cframe-z0-00000000.fits\n",
      "INFO:quickgen.py:732:main: Wrote file /Users/alma/Dropbox/desi/spectro/redux/test_qso_only/exposures/20171105/00000000/sky-z0-00000000.fits\n",
      "INFO:quickgen.py:753:main: Wrote file /Users/alma/Dropbox/desi/spectro/redux/test_qso_only/exposures/20171105/00000000/calib-z0-00000000.fits\n"
     ]
    }
   ],
   "source": [
    "#outdir_truth option seems not to work... \n",
    "fiberfile = desispec.io.findfile('fibermap', night=night, expid=expid)\n",
    "simspecfile = desisim.io.findfile('simspec', night=night, expid=expid)\n",
    "\n",
    "outfile='/Users/alma/Dropbox/desi/spectro/sim/Lya/20171106/'\n",
    "args = quickgen.parse([\n",
    "    '--simspec', simspecfile,\n",
    "    '--fibermap', fiberfile,\n",
    "    '-n 100','--outdir-truth', desisim.io.simdir(),\n",
    "])\n",
    "quickgen.main(args)"
   ]
  },
  {
   "cell_type": "markdown",
   "metadata": {},
   "source": [
    "We have genereted the simmulated spectra, before analyzing them with redrock, we group them in the brick format "
   ]
  },
  {
   "cell_type": "code",
   "execution_count": 13,
   "metadata": {},
   "outputs": [
    {
     "name": "stdout",
     "output_type": "stream",
     "text": [
      "INFO:group_spectra.py:74:main: Starting at Sun Nov  5 23:19:52 2017\n",
      "INFO:group_spectra.py:75:main:   using raw dir /Users/alma/Dropbox/desi/spectro/sim/test_qso_only\n",
      "INFO:group_spectra.py:76:main:   using spectro production dir /Users/alma/Dropbox/desi/spectro/redux/test_qso_only\n",
      "INFO:group_spectra.py:197:main: Distributing 2 spectral groups among 1 processes\n",
      "INFO:group_spectra.py:220:main:   (0000) Begin spectral group spectra-64-12637 at Sun Nov  5 23:19:52 2017\n",
      "INFO:group_spectra.py:294:main:   (0000) End spectral group spectra-64-12637 at Sun Nov  5 23:21:51 2017\n",
      "INFO:group_spectra.py:220:main:   (0000) Begin spectral group spectra-64-12639 at Sun Nov  5 23:21:51 2017\n",
      "INFO:group_spectra.py:294:main:   (0000) End spectral group spectra-64-12639 at Sun Nov  5 23:22:25 2017\n",
      "INFO:group_spectra.py:301:main: Finishing at Sun Nov  5 23:22:25 2017\n"
     ]
    }
   ],
   "source": [
    "nside = 64\n",
    "args = group_spectra.parse(['--hpxnside', '{}'.format(nside),'--nights','{}'.format(night)])\n",
    "group_spectra.main(args)"
   ]
  },
  {
   "cell_type": "markdown",
   "metadata": {},
   "source": [
    "TODO: I couldnt find the script to run redrock from the notebook, I'll to do it. In the meantime it can be run from the terminal as in this example:\n",
    "\n",
    "rrdesi --zbest zbest-64-12637.fits --output spectra-64-12637.h5 spectra-64-12637.fits -ncpu 10\n",
    "\n",
    "NOTE: by default uses all CPU available, so we should limit it. For larger samples it is best to make a script to run rrdesi over the different bricks. \n",
    "\n",
    "\n",
    "    "
   ]
  },
  {
   "cell_type": "raw",
   "metadata": {},
   "source": [
    "reduxdir = desispec.io.specprod_root()\n",
    "!find $reduxdir | sort"
   ]
  },
  {
   "cell_type": "markdown",
   "metadata": {},
   "source": [
    "Next we analyze the redrock output by comparing the redshift histogram from the redrock output \n",
    "to that from the original fibermap and specsim files. If fibermap, simspec and redrock output was generated in a previous jupyter sesion, we can start the notebook in this point. We then should uncooment the following cell"
   ]
  },
  {
   "cell_type": "code",
   "execution_count": 1,
   "metadata": {},
   "outputs": [
    {
     "name": "stdout",
     "output_type": "stream",
     "text": [
      "Populating the interactive namespace from numpy and matplotlib\n",
      "DESIMODEL environment set to /Users/alma/Dropbox/desi/code/desimodel\n",
      "DESI_ROOT environment set to /Users/alma/Dropbox/desi\n",
      "DESI_SPECTRO_SIM environment set to /Users/alma/Dropbox/desi/spectro/sim\n",
      "DESI_SPECTRO_DATA environment set to /Users/alma/Dropbox/desi/spectro/data\n",
      "DESI_SPECTRO_REDUX environment set to /Users/alma/Dropbox/desi/spectro/redux\n",
      "SPECPROD environment set to dailytest\n",
      "PIXPROD environment set to dailytest\n",
      "env: SPECPROD=test_qso_only\n",
      "env: PIXPROD=test_qso_only\n",
      "env: DESI_SPECTRO_DATA=/Users/alma/Dropbox/desi/spectro/sim/test_qso_only/\n"
     ]
    }
   ],
   "source": [
    "import os\n",
    "%pylab inline\n",
    "import numpy as np\n",
    "from astropy.io import fits\n",
    "from astropy.table import Table,vstack\n",
    "import desispec.io\n",
    "import desisim.io\n",
    "import matplotlib.pyplot as plt\n",
    "\n",
    "def check_env():\n",
    "    for env in ('DESIMODEL', 'DESI_ROOT', 'DESI_SPECTRO_SIM', 'DESI_SPECTRO_DATA', \n",
    "            'DESI_SPECTRO_REDUX', 'SPECPROD', 'PIXPROD'):\n",
    "        if env in os.environ:\n",
    "            print('{} environment set to {}'.format(env, os.getenv(env)))\n",
    "        else:\n",
    "            print('Required environment variable {} not set!'.format(env))\n",
    "check_env()\n",
    "%set_env SPECPROD=test_qso_only\n",
    "%set_env PIXPROD=test_qso_only\n",
    "rawdata_dir = desisim.io.simdir()\n",
    "%set_env DESI_SPECTRO_DATA=$rawdata_dir\n",
    "\n",
    "night = '20171105'\n",
    "expid = 0\n",
    "fiberfile = desispec.io.findfile('fibermap', night=night, expid=expid)\n",
    "simspecfile = desisim.io.findfile('simspec', night=night, expid=expid)"
   ]
  },
  {
   "cell_type": "code",
   "execution_count": 2,
   "metadata": {},
   "outputs": [
    {
     "name": "stdout",
     "output_type": "stream",
     "text": [
      "Reading fibermap file /Users/alma/Dropbox/desi/spectro/sim/test_qso_only/20171105/fibermap-00000000.fits\n",
      "Reading simspec file /Users/alma/Dropbox/desi/spectro/sim/test_qso_only/20171105/simspec-00000000.fits.\n"
     ]
    }
   ],
   "source": [
    "print('Reading fibermap file {}'.format(fiberfile))\n",
    "hdu = fits.open(fiberfile)\n",
    "fibermap = Table(hdu['FIBERMAP'].data)\n",
    "hdu.close()\n",
    "print('Reading simspec file {}.'.format(simspecfile))\n",
    "hdu = fits.open(simspecfile)\n",
    "meta = Table(hdu['METADATA'].data)\n",
    "hdu.close()\n"
   ]
  },
  {
   "cell_type": "code",
   "execution_count": 3,
   "metadata": {},
   "outputs": [
    {
     "name": "stdout",
     "output_type": "stream",
     "text": [
      "75\n"
     ]
    }
   ],
   "source": [
    "specfile = desispec.io.findfile('spectra', groupname='12637', nside=64)\n",
    "zbestfile = desispec.io.findfile('zbest', groupname='12637', nside=64)\n",
    "spectra = desispec.io.read_spectra(specfile)\n",
    "zbest = Table.read(zbestfile)\n",
    "print (len(zbest))"
   ]
  },
  {
   "cell_type": "markdown",
   "metadata": {},
   "source": [
    "Lets use the TARGETID's from zbest to look for them in the fibermap to get the true REDSHIFT and SPECTYPE of such sources. We save that in  the ztruth table."
   ]
  },
  {
   "cell_type": "code",
   "execution_count": 4,
   "metadata": {},
   "outputs": [],
   "source": [
    "ztruth=meta[fibermap['TARGETID']==zbest['TARGETID'][0]]\n",
    "\n",
    "for i in range(1,len(zbest)):\n",
    "    tmp=meta[fibermap['TARGETID']==zbest['TARGETID'][i]]\n",
    "    ztruth=vstack([ztruth,tmp])\n"
   ]
  },
  {
   "cell_type": "markdown",
   "metadata": {},
   "source": [
    "Now we make the histogram of sources at a given redshift for both the sources in zbest, and fibermap. Ideally these should look like the same. "
   ]
  },
  {
   "cell_type": "code",
   "execution_count": 6,
   "metadata": {},
   "outputs": [
    {
     "name": "stdout",
     "output_type": "stream",
     "text": [
      "zbest results from Redrock on /Users/alma/Dropbox/desi/spectro/redux/test_qso_only/spectra-64/126/12637/zbest-64-12637.fits\n",
      "GALAXY : 5.0\n",
      "QSO : 68.0\n",
      "STAR : 2.0\n",
      "Ztruth the /Users/alma/Dropbox/desi/spectro/sim/test_qso_only/20171105/simspec-00000000.fits file\n",
      "FSTD : 2.0\n",
      "QSO : 68.0\n",
      "SKY : 5.0\n"
     ]
    },
    {
     "data": {
      "image/png": "[encoded data removed]",
      "text/plain": [
       "<matplotlib.figure.Figure at 0x1109dfd30>"
      ]
     },
     "metadata": {},
     "output_type": "display_data"
    }
   ],
   "source": [
    "fig, ax = plt.subplots(2,1,figsize=(10,10))\n",
    "\n",
    "print('zbest results from Redrock on {}'.format(zbestfile))\n",
    "for spectype in sorted(set(zbest['SPECTYPE'])):\n",
    "    if spectype=='STAR':\n",
    "        color='orangered'\n",
    "    if spectype=='GALAXY':\n",
    "        color='b'\n",
    "    if spectype=='QSO':\n",
    "        color='g'\n",
    "    jj = (zbest['SPECTYPE'] == spectype)\n",
    "   # print(spectype,':',sum(hist(zbest['Z'][jj], 25, (-0.1,4.4))[0]))\n",
    "    nhist=ax[0].hist(zbest['Z'][jj], 25, (-0.1,4.4),color=color,label=format(spectype),alpha=0.5)[0]\n",
    "    print(spectype,':',sum(nhist))\n",
    "\n",
    "\n",
    "    ax[0].legend(loc='upper right')\n",
    "    ax[0].set_ylim(0,10)\n",
    "ax[0].set_title('Redrock output (group=12637)')\n",
    "\n",
    "print('Ztruth the {} file'.format(simspecfile))\n",
    "\n",
    "allobjtype = meta['OBJTYPE']\n",
    "for objtype in sorted(set(allobjtype)):\n",
    "    if objtype=='FSTD':\n",
    "        color='b'\n",
    "    if objtype=='SKY':\n",
    "        color='orangered'\n",
    "    if objtype=='QSO':\n",
    "        color='green'\n",
    "    ii = (ztruth['OBJTYPE'] == objtype)\n",
    "    \n",
    "    nhist=ax[1].hist(ztruth['REDSHIFT'][ii],25,(-0.1,4.4),color=color,label=format(objtype),alpha=0.5)[0]\n",
    "    ax[1].legend(loc='upper right')\n",
    "    ax[1].set_ylim(0,10)\n",
    "    print(objtype,':',sum(nhist))\n",
    "ax[1].set_title('Truth redshift distribution (specsim & fibermap)')\n",
    "fig.subplots_adjust(hspace=0.2)\n",
    "\n",
    "\n",
    "\n",
    "    \n",
    "\n"
   ]
  },
  {
   "cell_type": "markdown",
   "metadata": {},
   "source": [
    "We can see that for the spectra-64-12637 group, the number of QSO's were correctly identified and at first glance there is a good estimate of the redshift.\n",
    "I also did  this for a sample of 1000 QSO's only, although some STARS and FSTD are also generated by default,  and the result is the same: All QSO's and redshift distribution was recovered. \n",
    "Possible the spectra I'm generating is not noisy to make redrock fail for QSO... I'll change exptime and other parameters in the new_exposure function and see if we can generate a different result, and I'll add the use of the function desisim.lya_spectra  to generate QSO spectrum including Lyman-alpha absorption... "
   ]
  },
  {
   "cell_type": "code",
   "execution_count": null,
   "metadata": {
    "collapsed": true
   },
   "outputs": [],
   "source": []
  }
 ],
 "metadata": {
  "kernelspec": {
   "display_name": "Python 3",
   "language": "python",
   "name": "python3"
  },
  "language_info": {
   "codemirror_mode": {
    "name": "ipython",
    "version": 3
   },
   "file_extension": ".py",
   "mimetype": "text/x-python",
   "name": "python",
   "nbconvert_exporter": "python",
   "pygments_lexer": "ipython3",
   "version": "3.5.4"
  }
 },
 "nbformat": 4,
 "nbformat_minor": 2
}
