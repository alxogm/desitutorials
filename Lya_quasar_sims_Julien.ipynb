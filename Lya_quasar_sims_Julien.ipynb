{
 "cells": [
  {
   "cell_type": "code",
   "execution_count": 2,
   "metadata": {},
   "outputs": [
    {
     "name": "stdout",
     "output_type": "stream",
     "text": [
      "Populating the interactive namespace from numpy and matplotlib\n"
     ]
    },
    {
     "name": "stderr",
     "output_type": "stream",
     "text": [
      "/global/common/cori/contrib/desi/desiconda/20170613-1.1.4-spectro/code/desiconda/20170613-1.1.4-spectro_conda/lib/python3.5/site-packages/matplotlib/__init__.py:1405: UserWarning: \n",
      "This call to matplotlib.use() has no effect because the backend has already\n",
      "been chosen; matplotlib.use() must be called *before* pylab, matplotlib.pyplot,\n",
      "or matplotlib.backends is imported for the first time.\n",
      "\n",
      "  warnings.warn(_use_error_msg)\n"
     ]
    }
   ],
   "source": [
    "import os\n",
    "%pylab inline\n",
    "\n",
    "\n",
    "import matplotlib.pyplot as plt\n",
    "\n",
    "\n",
    "\n",
    "import numpy as np\n",
    "from astropy.io import fits\n",
    "from astropy.table import Table\n",
    "import desispec.io\n",
    "import desisim.io\n",
    "from desisim.scripts import quickgen\n",
    "from desispec.scripts import group_spectra\n",
    "\n",
    "\n"
   ]
  },
  {
   "cell_type": "markdown",
   "metadata": {},
   "source": [
    "## Environment variables and data\n",
    "\n",
    "We will specify the enviroment variables, specially where to find the DESI spectra templates, and where do we want to save the simulated spectra. Then check enviroment variables. I assumes the desi enviroment is already set. "
   ]
  },
  {
   "cell_type": "code",
   "execution_count": 2,
   "metadata": {},
   "outputs": [
    {
     "name": "stdout",
     "output_type": "stream",
     "text": [
      "env: SPECPROD=alxogm/Julien\n",
      "env: DESI_SPECTRO_DATA=/project/projectdirs/desi/users/jguy/sim2017/sim/month\n",
      "env: DESI_SPECTRO_SIM=/project/projectdirs/desi/users/jguy/sim2017/sim\n",
      "env: PIXPROD=month\n",
      "DESIMODEL environment set to /global/common/cori/contrib/desi/desiconda/current/code/desimodel/master\n",
      "DESI_ROOT environment set to /global/project/projectdirs/desi\n",
      "DESI_SPECTRO_SIM environment set to /project/projectdirs/desi/users/jguy/sim2017/sim\n",
      "DESI_SPECTRO_DATA environment set to /project/projectdirs/desi/users/jguy/sim2017/sim/month\n",
      "DESI_SPECTRO_REDUX environment set to /global/project/projectdirs/desi/spectro/redux\n",
      "SPECPROD environment set to alxogm/Julien\n",
      "PIXPROD environment set to month\n",
      "Simulated raw data will be written to /project/projectdirs/desi/users/jguy/sim2017/sim/month/\n",
      "Pipeline will read raw data from /project/projectdirs/desi/users/jguy/sim2017/sim/month\n",
      "    (without knowing that it was simulated)\n",
      "Pipeline will write processed data to /global/project/projectdirs/desi/spectro/redux/alxogm/Julien\n"
     ]
    }
   ],
   "source": [
    "def check_env():\n",
    "    for env in ('DESIMODEL', 'DESI_ROOT', 'DESI_SPECTRO_SIM', 'DESI_SPECTRO_DATA', \n",
    "            'DESI_SPECTRO_REDUX', 'SPECPROD', 'PIXPROD'):\n",
    "        if env in os.environ:\n",
    "            print('{} environment set to {}'.format(env, os.getenv(env)))\n",
    "        else:\n",
    "            print('Required environment variable {} not set!'.format(env))\n",
    "            \n",
    "\n",
    "%set_env SPECPROD=alxogm/Julien\n",
    "rawdata_dir = desisim.io.simdir()\n",
    "%set_env DESI_SPECTRO_DATA=/project/projectdirs/desi/users/jguy/sim2017/sim/month\n",
    "%set_env DESI_SPECTRO_SIM=/project/projectdirs/desi/users/jguy/sim2017/sim\n",
    "%set_env PIXPROD=month\n",
    "\n",
    "check_env()\n",
    "\n",
    "\n",
    "print('Simulated raw data will be written to {}'.format(desisim.io.simdir()))\n",
    "print('Pipeline will read raw data from {}'.format(desispec.io.rawdata_root()))\n",
    "print('    (without knowing that it was simulated)')\n",
    "print('Pipeline will write processed data to {}'.format(desispec.io.specprod_root()))"
   ]
  },
  {
   "cell_type": "markdown",
   "metadata": {},
   "source": [
    "Now that the fiber and simspec files were generated we proceed to simulate de spectra using quickgen function.\n",
    "NOTE: The quickspectra function is in github, but for some reason I can not see it from my instalation, I'll check if it is available in  NERSC. "
   ]
  },
  {
   "cell_type": "code",
   "execution_count": 12,
   "metadata": {},
   "outputs": [
    {
     "name": "stdout",
     "output_type": "stream",
     "text": [
      "/project/projectdirs/desi/users/jguy/sim2017/sim/month/20191019/fibermap-00003937.fits\n",
      "/project/projectdirs/desi/users/jguy/sim2017/sim/month/20191019/simspec-00003937.fits\n"
     ]
    }
   ],
   "source": [
    "'''Uncomment this lines if you want to use the fibermap and simspec files generated in advance '''\n",
    "night=20191019\n",
    "expid=3937\n",
    "simspec_path='/project/projectdirs/desi/users/jguy/sim2017/sim/month/'\n",
    "fiberfile = desispec.io.findfile('fibermap', night=night, expid=expid)\n",
    "simspecfile = desisim.io.findfile('simspec', night=night, expid=expid)\n",
    "print(fiberfile)\n",
    "print(simspecfile)"
   ]
  },
  {
   "cell_type": "code",
   "execution_count": 13,
   "metadata": {},
   "outputs": [
    {
     "name": "stdout",
     "output_type": "stream",
     "text": [
      "Reading fibermap file /project/projectdirs/desi/users/jguy/sim2017/sim/month/20191019/fibermap-00003937.fits\n",
      "Reading simspec file /project/projectdirs/desi/users/jguy/sim2017/sim/month/20191019/simspec-00003937.fits.\n"
     ]
    }
   ],
   "source": [
    "'''Uncomment this lines if you want to plot the redshift distribution generated by the previous result of \n",
    "a new_exposure function, otherwise just  plot the distribution in the next cell'''\n",
    "print('Reading fibermap file {}'.format(fiberfile))\n",
    "hdu = fits.open(fiberfile)      \n",
    "fibermap = Table(hdu['FIBERMAP'].data)\n",
    "hdu.close()\n",
    "print('Reading simspec file {}.'.format(simspecfile))\n",
    "hdu = fits.open(simspecfile)\n",
    "meta = Table(hdu['TRUTH'].data)\n",
    "\n",
    "hdu.close()"
   ]
  },
  {
   "cell_type": "markdown",
   "metadata": {},
   "source": [
    "\n"
   ]
  },
  {
   "cell_type": "code",
   "execution_count": 14,
   "metadata": {},
   "outputs": [
    {
     "data": {
      "text/plain": [
       "(-0.2, 4.397836613655091)"
      ]
     },
     "execution_count": 14,
     "metadata": {},
     "output_type": "execute_result"
    },
    {
     "data": {
      "image/png": "[encoded data removed]",
      "text/plain": [
       "<matplotlib.figure.Figure at 0x2aeb56c067f0>"
      ]
     },
     "metadata": {},
     "output_type": "display_data"
    }
   ],
   "source": [
    "allobjtype = meta['OBJTYPE']\n",
    "redlim = (-0.2, 1.1*meta['REDSHIFT'].max())\n",
    "fig, ax = plt.subplots()\n",
    "for objtype in sorted(set(allobjtype)):\n",
    "    indx = objtype == allobjtype\n",
    "    hh = ax.hist(meta['REDSHIFT'][indx], bins=25, \n",
    "                 label=objtype, alpha=0.5, range=redlim)\n",
    "ax.set_xlabel('Redshift')\n",
    "ax.set_ylabel('Number of Simulated Spectra')\n",
    "ax.legend(loc='upper right', ncol=3)\n",
    "ax.margins(0.2)\n",
    "ax.set_xlim(redlim)"
   ]
  },
  {
   "cell_type": "code",
   "execution_count": null,
   "metadata": {},
   "outputs": [],
   "source": [
    "#outdir_truth option seems not to work... \n",
    "args = quickgen.parse([\n",
    "    '--simspec', simspecfile,\n",
    "    '--fibermap', fiberfile,\n",
    "    '--outdir-truth', desisim.io.simdir()])\n",
    "quickgen.main(args)"
   ]
  },
  {
   "cell_type": "markdown",
   "metadata": {},
   "source": [
    "We have genereted the simmulated spectra, before analyzing them with redrock, we group them in the brick format "
   ]
  },
  {
   "cell_type": "code",
   "execution_count": 7,
   "metadata": {},
   "outputs": [
    {
     "name": "stdout",
     "output_type": "stream",
     "text": [
      "INFO:group_spectra.py:74:main: Starting at Mon Dec  4 21:30:21 2017\n",
      "INFO:group_spectra.py:75:main:   using raw dir /project/projectdirs/desi/users/jguy/sim2017/sim/month\n",
      "INFO:group_spectra.py:76:main:   using spectro production dir /global/project/projectdirs/desi/spectro/redux/alxogm/Julien\n",
      "INFO:group_spectra.py:197:main: Distributing 17 spectral groups among 1 processes\n",
      "INFO:group_spectra.py:220:main:   (0000) Begin spectral group spectra-64-9236 at Mon Dec  4 21:30:32 2017\n"
     ]
    },
    {
     "name": "stderr",
     "output_type": "stream",
     "text": [
      "Exception ignored in: <function WeakValueDictionary.__init__.<locals>.remove at 0x2ba94af07730>\n",
      "Traceback (most recent call last):\n",
      "  File \"/global/common/cori/contrib/desi/desiconda/20170613-1.1.4-spectro/code/desiconda/20170613-1.1.4-spectro_conda/lib/python3.5/weakref.py\", line 109, in remove\n",
      "    def remove(wr, selfref=ref(self)):\n",
      "KeyboardInterrupt\n"
     ]
    },
    {
     "ename": "KeyboardInterrupt",
     "evalue": "",
     "output_type": "error",
     "traceback": [
      "\u001b[0;31m---------------------------------------------------------------------------\u001b[0m",
      "\u001b[0;31mKeyboardInterrupt\u001b[0m                         Traceback (most recent call last)",
      "\u001b[0;32m<ipython-input-7-34696f30c07a>\u001b[0m in \u001b[0;36m<module>\u001b[0;34m()\u001b[0m\n\u001b[1;32m      1\u001b[0m \u001b[0mnside\u001b[0m \u001b[0;34m=\u001b[0m \u001b[0;36m64\u001b[0m\u001b[0;34m\u001b[0m\u001b[0m\n\u001b[1;32m      2\u001b[0m \u001b[0margs\u001b[0m \u001b[0;34m=\u001b[0m \u001b[0mgroup_spectra\u001b[0m\u001b[0;34m.\u001b[0m\u001b[0mparse\u001b[0m\u001b[0;34m(\u001b[0m\u001b[0;34m[\u001b[0m\u001b[0;34m'--hpxnside'\u001b[0m\u001b[0;34m,\u001b[0m \u001b[0;34m'{}'\u001b[0m\u001b[0;34m.\u001b[0m\u001b[0mformat\u001b[0m\u001b[0;34m(\u001b[0m\u001b[0mnside\u001b[0m\u001b[0;34m)\u001b[0m\u001b[0;34m,\u001b[0m\u001b[0;34m'--nights'\u001b[0m\u001b[0;34m,\u001b[0m\u001b[0;34m'{}'\u001b[0m\u001b[0;34m.\u001b[0m\u001b[0mformat\u001b[0m\u001b[0;34m(\u001b[0m\u001b[0mnight\u001b[0m\u001b[0;34m)\u001b[0m\u001b[0;34m]\u001b[0m\u001b[0;34m)\u001b[0m\u001b[0;34m\u001b[0m\u001b[0m\n\u001b[0;32m----> 3\u001b[0;31m \u001b[0mgroup_spectra\u001b[0m\u001b[0;34m.\u001b[0m\u001b[0mmain\u001b[0m\u001b[0;34m(\u001b[0m\u001b[0margs\u001b[0m\u001b[0;34m)\u001b[0m\u001b[0;34m\u001b[0m\u001b[0m\n\u001b[0m",
      "\u001b[0;32m/global/common/cori/contrib/desi/desiconda/current/code/desispec/master/py/desispec/scripts/group_spectra.py\u001b[0m in \u001b[0;36mmain\u001b[0;34m(args, comm)\u001b[0m\n\u001b[1;32m    262\u001b[0m                 \u001b[0;32mif\u001b[0m \u001b[0mos\u001b[0m\u001b[0;34m.\u001b[0m\u001b[0mpath\u001b[0m\u001b[0;34m.\u001b[0m\u001b[0misfile\u001b[0m\u001b[0;34m(\u001b[0m\u001b[0mframe_paths\u001b[0m\u001b[0;34m[\u001b[0m\u001b[0mfr\u001b[0m\u001b[0;34m]\u001b[0m\u001b[0;34m)\u001b[0m\u001b[0;34m:\u001b[0m\u001b[0;34m\u001b[0m\u001b[0m\n\u001b[1;32m    263\u001b[0m                     fdata = io.read_frame_as_spectra(frame_paths[fr], \n\u001b[0;32m--> 264\u001b[0;31m                         frame_nights[fr], frame_expids[fr], frame_bands[fr])\n\u001b[0m\u001b[1;32m    265\u001b[0m                 \u001b[0;32melse\u001b[0m\u001b[0;34m:\u001b[0m\u001b[0;34m\u001b[0m\u001b[0m\n\u001b[1;32m    266\u001b[0m                     \u001b[0mfdata\u001b[0m \u001b[0;34m=\u001b[0m \u001b[0mSpectra\u001b[0m\u001b[0;34m(\u001b[0m\u001b[0;34m)\u001b[0m\u001b[0;34m\u001b[0m\u001b[0m\n",
      "\u001b[0;32m/global/common/cori/contrib/desi/desiconda/current/code/desispec/master/py/desispec/io/spectra.py\u001b[0m in \u001b[0;36mread_frame_as_spectra\u001b[0;34m(filename, night, expid, band, single)\u001b[0m\n\u001b[1;32m    255\u001b[0m     \u001b[0;32mfor\u001b[0m \u001b[0ms\u001b[0m \u001b[0;32min\u001b[0m \u001b[0mrange\u001b[0m\u001b[0;34m(\u001b[0m\u001b[0mnspec\u001b[0m\u001b[0;34m)\u001b[0m\u001b[0;34m:\u001b[0m\u001b[0;34m\u001b[0m\u001b[0m\n\u001b[1;32m    256\u001b[0m         \u001b[0;32mfor\u001b[0m \u001b[0mtp\u001b[0m \u001b[0;32min\u001b[0m \u001b[0mfr\u001b[0m\u001b[0;34m.\u001b[0m\u001b[0mfibermap\u001b[0m\u001b[0;34m.\u001b[0m\u001b[0mdtype\u001b[0m\u001b[0;34m.\u001b[0m\u001b[0mfields\u001b[0m\u001b[0;34m:\u001b[0m\u001b[0;34m\u001b[0m\u001b[0m\n\u001b[0;32m--> 257\u001b[0;31m             \u001b[0mfmap\u001b[0m\u001b[0;34m[\u001b[0m\u001b[0ms\u001b[0m\u001b[0;34m]\u001b[0m\u001b[0;34m[\u001b[0m\u001b[0mtp\u001b[0m\u001b[0;34m]\u001b[0m \u001b[0;34m=\u001b[0m \u001b[0mfr\u001b[0m\u001b[0;34m.\u001b[0m\u001b[0mfibermap\u001b[0m\u001b[0;34m[\u001b[0m\u001b[0ms\u001b[0m\u001b[0;34m]\u001b[0m\u001b[0;34m[\u001b[0m\u001b[0mtp\u001b[0m\u001b[0;34m]\u001b[0m\u001b[0;34m\u001b[0m\u001b[0m\n\u001b[0m\u001b[1;32m    258\u001b[0m \u001b[0;34m\u001b[0m\u001b[0m\n\u001b[1;32m    259\u001b[0m     \u001b[0mfmap\u001b[0m\u001b[0;34m[\u001b[0m\u001b[0;34m:\u001b[0m\u001b[0;34m]\u001b[0m\u001b[0;34m[\u001b[0m\u001b[0;34m\"NIGHT\"\u001b[0m\u001b[0;34m]\u001b[0m \u001b[0;34m=\u001b[0m \u001b[0mnight\u001b[0m\u001b[0;34m\u001b[0m\u001b[0m\n",
      "\u001b[0;32m/global/common/cori/contrib/desi/desiconda/20170613-1.1.4-spectro/code/desiconda/20170613-1.1.4-spectro_conda/lib/python3.5/site-packages/astropy/io/fits/fitsrec.py\u001b[0m in \u001b[0;36m__getitem__\u001b[0;34m(self, key)\u001b[0m\n\u001b[1;32m    519\u001b[0m                 \u001b[0;32mraise\u001b[0m \u001b[0mIndexError\u001b[0m\u001b[0;34m(\u001b[0m\u001b[0;34m\"Index out of bounds\"\u001b[0m\u001b[0;34m)\u001b[0m\u001b[0;34m\u001b[0m\u001b[0m\n\u001b[1;32m    520\u001b[0m \u001b[0;34m\u001b[0m\u001b[0m\n\u001b[0;32m--> 521\u001b[0;31m             \u001b[0mnewrecord\u001b[0m \u001b[0;34m=\u001b[0m \u001b[0mself\u001b[0m\u001b[0;34m.\u001b[0m\u001b[0m_record_type\u001b[0m\u001b[0;34m(\u001b[0m\u001b[0mself\u001b[0m\u001b[0;34m,\u001b[0m \u001b[0mkey\u001b[0m\u001b[0;34m)\u001b[0m\u001b[0;34m\u001b[0m\u001b[0m\n\u001b[0m\u001b[1;32m    522\u001b[0m             \u001b[0;32mreturn\u001b[0m \u001b[0mnewrecord\u001b[0m\u001b[0;34m\u001b[0m\u001b[0m\n\u001b[1;32m    523\u001b[0m \u001b[0;34m\u001b[0m\u001b[0m\n",
      "\u001b[0;32m/global/common/cori/contrib/desi/desiconda/20170613-1.1.4-spectro/code/desiconda/20170613-1.1.4-spectro_conda/lib/python3.5/site-packages/astropy/io/fits/fitsrec.py\u001b[0m in \u001b[0;36m__init__\u001b[0;34m(self, input, row, start, end, step, base, **kwargs)\u001b[0m\n\u001b[1;32m     53\u001b[0m \u001b[0;34m\u001b[0m\u001b[0m\n\u001b[1;32m     54\u001b[0m         \u001b[0mself\u001b[0m\u001b[0;34m.\u001b[0m\u001b[0marray\u001b[0m \u001b[0;34m=\u001b[0m \u001b[0minput\u001b[0m\u001b[0;34m\u001b[0m\u001b[0m\n\u001b[0;32m---> 55\u001b[0;31m         \u001b[0mself\u001b[0m\u001b[0;34m.\u001b[0m\u001b[0mrow\u001b[0m \u001b[0;34m=\u001b[0m \u001b[0mrow\u001b[0m\u001b[0;34m\u001b[0m\u001b[0m\n\u001b[0m\u001b[1;32m     56\u001b[0m         \u001b[0;32mif\u001b[0m \u001b[0mbase\u001b[0m\u001b[0;34m:\u001b[0m\u001b[0;34m\u001b[0m\u001b[0m\n\u001b[1;32m     57\u001b[0m             \u001b[0mwidth\u001b[0m \u001b[0;34m=\u001b[0m \u001b[0mlen\u001b[0m\u001b[0;34m(\u001b[0m\u001b[0mbase\u001b[0m\u001b[0;34m)\u001b[0m\u001b[0;34m\u001b[0m\u001b[0m\n",
      "\u001b[0;31mKeyboardInterrupt\u001b[0m: "
     ]
    }
   ],
   "source": [
    "nside = 64\n",
    "args = group_spectra.parse(['--hpxnside', '{}'.format(nside),'--nights','{}'.format(night)])\n",
    "group_spectra.main(args)"
   ]
  },
  {
   "cell_type": "markdown",
   "metadata": {},
   "source": [
    "TODO: I couldnt find the script to run redrock from the notebook. In the meantime it can be run from the terminal as in this example:\n",
    "\n",
    "rrdesi --zbest zbest-64-12637.fits --output spectra-64-12637.h5 spectra-64-12637.fits -ncpu 10\n",
    "\n",
    "NOTE: by default uses all CPU available, so we should limit it. For larger samples it is best to make a script to run rrdesi over the different bricks. \n",
    "\n",
    "\n",
    "    "
   ]
  },
  {
   "cell_type": "code",
   "execution_count": 105,
   "metadata": {},
   "outputs": [],
   "source": [
    "zbestfile='/global/homes/a/alxogm/Lyalpha/spectra_sim/zbest.fits'\n",
    "zbest = Table.read(zbestfile)\n",
    "truthfile='/global/project/projectdirs/desi/spectro/redux/alxogm/test_Julien/truth.fits'\n",
    "truth=Table.read(truthfile)\n"
   ]
  },
  {
   "cell_type": "code",
   "execution_count": 79,
   "metadata": {},
   "outputs": [],
   "source": [
    "ztruth=truth[truth['TARGETID']==zbest['TARGETID'][0]]\n",
    "for i in range(1,len(zbest)):\n",
    "    tmp=truth[truth['TARGETID']==zbest['TARGETID'][i]]\n",
    "    ztruth=vstack([ztruth,tmp])"
   ]
  },
  {
   "cell_type": "markdown",
   "metadata": {},
   "source": [
    "Lets use the TARGETID's from zbest to look for them in the fibermap to get the true REDSHIFT and SPECTYPE of such sources. We save that in  the ztruth table."
   ]
  },
  {
   "cell_type": "markdown",
   "metadata": {},
   "source": [
    "Now we make the histogram of sources at a given redshift for both the sources in zbest, and fibermap. Ideally these should look like the same. "
   ]
  },
  {
   "cell_type": "code",
   "execution_count": 8,
   "metadata": {},
   "outputs": [
    {
     "name": "stdout",
     "output_type": "stream",
     "text": [
      "zbest results from Redrock on /global/homes/a/alxogm/Lyalpha/spectra_sim/zbest.fits\n",
      "QSO : 116.0\n",
      "QSO : 205.0\n"
     ]
    },
    {
     "data": {
      "text/plain": [
       "<matplotlib.legend.Legend at 0x2b12ec110a58>"
      ]
     },
     "execution_count": 8,
     "metadata": {},
     "output_type": "execute_result"
    },
    {
     "data": {
      "image/png": "[encoded data removed]",
      "text/plain": [
       "<matplotlib.figure.Figure at 0x2b12ec3dda90>"
      ]
     },
     "metadata": {},
     "output_type": "display_data"
    }
   ],
   "source": [
    "fig, ax = plt.subplots(2,1,figsize=(10,10))\n",
    "\n",
    "print('zbest results from Redrock on {}'.format(zbestfile))\n",
    "for spectype in sorted(set(zbest['SPECTYPE'])):\n",
    "    if spectype=='STAR':\n",
    "        color='orangered'\n",
    "    if spectype=='GALAXY':\n",
    "        color='b'\n",
    "    if spectype=='QSO':\n",
    "        color='g'\n",
    "        jj = (zbest['SPECTYPE'] == spectype)\n",
    "   #print(spectype,':',sum(hist(zbest['Z'][jj], 25, (-0.1,4.4))[0]))\n",
    "        nhist=ax[0].hist(zbest['Z'][jj], 25, (-0.1,4.4),color=color,label=format(spectype),alpha=0.5)[0]\n",
    "        print(spectype,':',sum(nhist))\n",
    "\n",
    "allobjtype = truth['OBJTYPE']\n",
    "\n",
    "for objtype in sorted(set(allobjtype)):\n",
    "    if objtype=='ELG':\n",
    "        color='b'\n",
    "    if objtype=='SKY':\n",
    "        color='orangered'\n",
    "    if objtype=='QSO':\n",
    "        color='green'\n",
    "\n",
    "        ii = (ztruth['OBJTYPE'] == objtype)\n",
    "    #if objtype=='QSO':\n",
    "        ax[0].hist(ztruth['TREDSHIFT'][ii],25,(-0.1,4.4),color='black',label='true'+format(objtype),alpha=0.5)[0]\n",
    "    \n",
    "        nhist=ax[1].hist(ztruth['TREDSHIFT'][ii],25,(-0.1,4.4),color=color,label=format(objtype),alpha=0.5)[0]\n",
    "        print(objtype,':',sum(nhist))\n",
    "ax[1].set_title('Truth redshift distribution (specsim & fibermap)')\n",
    "fig.subplots_adjust(hspace=0.2)\n",
    "ax[0].legend(loc='upper right')\n",
    "ax[1].legend(loc='upper right')"
   ]
  },
  {
   "cell_type": "code",
   "execution_count": 104,
   "metadata": {},
   "outputs": [
    {
     "data": {
      "text/plain": [
       "<matplotlib.text.Text at 0x2b12ec463d68>"
      ]
     },
     "execution_count": 104,
     "metadata": {},
     "output_type": "execute_result"
    },
    {
     "data": {
      "image/png": "[encoded data removed]",
      "text/plain": [
       "<matplotlib.figure.Figure at 0x2b12ec46b198>"
      ]
     },
     "metadata": {},
     "output_type": "display_data"
    }
   ],
   "source": [
    "scatter(ztruth['TREDSHIFT'],zbest['Z'],marker='.')\n",
    "ylabel(r'$z_{\\rm best}$')\n",
    "xlabel(r'$z_{\\rm true}$')"
   ]
  },
  {
   "cell_type": "code",
   "execution_count": 100,
   "metadata": {},
   "outputs": [
    {
     "name": "stderr",
     "output_type": "stream",
     "text": [
      "/global/common/cori/contrib/desi/desiconda/20170613-1.1.4-spectro/code/desiconda/20170613-1.1.4-spectro_conda/lib/python3.5/site-packages/ipykernel/__main__.py:3: RuntimeWarning: divide by zero encountered in true_divide\n",
      "  app.launch_new_instance()\n"
     ]
    },
    {
     "data": {
      "text/plain": [
       "<matplotlib.text.Text at 0x2b12ec2fd400>"
      ]
     },
     "execution_count": 100,
     "metadata": {},
     "output_type": "execute_result"
    },
    {
     "data": {
      "image/png": "[encoded data removed]",
      "text/plain": [
       "<matplotlib.figure.Figure at 0x2b12ec27cb38>"
      ]
     },
     "metadata": {},
     "output_type": "display_data"
    }
   ],
   "source": [
    "zth=np.reshape(ztruth['TREDSHIFT'],len(zbest['Z']))\n",
    "mag_g =ztruth['TMAG']\n",
    "diff=zbest['Z']/zth\n",
    "scatter(mag_g,diff,marker='.',alpha=0.5)\n",
    "ylim(-1,2)\n",
    "ylabel(r'$z_{\\rm best}/z_{\\rm true}$')\n",
    "xlabel('TMAG')"
   ]
  },
  {
   "cell_type": "code",
   "execution_count": null,
   "metadata": {},
   "outputs": [],
   "source": []
  }
 ],
 "metadata": {
  "anaconda-cloud": {},
  "kernelspec": {
   "display_name": "DESI master",
   "language": "python",
   "name": "desi-master"
  },
  "language_info": {
   "codemirror_mode": {
    "name": "ipython",
    "version": 3
   },
   "file_extension": ".py",
   "mimetype": "text/x-python",
   "name": "python",
   "nbconvert_exporter": "python",
   "pygments_lexer": "ipython3",
   "version": "3.5.3"
  }
 },
 "nbformat": 4,
 "nbformat_minor": 2
}
