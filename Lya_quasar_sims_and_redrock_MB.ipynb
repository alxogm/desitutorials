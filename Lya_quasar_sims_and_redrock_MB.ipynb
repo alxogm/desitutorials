{
 "cells": [
  {
   "cell_type": "markdown",
   "metadata": {},
   "source": [
    "# Quasar Redshift Estimates with Redrock. DESI simulated Spectra\n",
    "\n",
    "The goal of this notebook is to generate a set of quasar spectra simulations, that are then analized with redrock to obtain the \n",
    "redshift.  \n",
    "We assume that desi code is installed as described in :\n",
    "https://desi.lbl.gov/trac/wiki/Pipeline/GettingStarted/Laptop/JuneMeeting\n",
    "The only identified issue is with astropy v2, this should be downgraded to v1.3.3, after installing healpy. If installed before, healpy will upgrade again and then functions dealing with writting fits files will complain.\n",
    "\n",
    "TODO:Check that there is a warning when calling the new_exposure funcion..\n",
    "\n",
    "First we import the basic modules we need. "
   ]
  },
  {
   "cell_type": "code",
   "execution_count": 1,
   "metadata": {
    "collapsed": false
   },
   "outputs": [
    {
     "name": "stdout",
     "output_type": "stream",
     "text": [
      "Populating the interactive namespace from numpy and matplotlib\n"
     ]
    },
    {
     "name": "stderr",
     "output_type": "stream",
     "text": [
      "/global/common/cori/contrib/desi/desiconda/20170613-1.1.4-spectro/code/desiconda/20170613-1.1.4-spectro_conda/lib/python3.5/site-packages/matplotlib/__init__.py:1405: UserWarning: \n",
      "This call to matplotlib.use() has no effect because the backend has already\n",
      "been chosen; matplotlib.use() must be called *before* pylab, matplotlib.pyplot,\n",
      "or matplotlib.backends is imported for the first time.\n",
      "\n",
      "  warnings.warn(_use_error_msg)\n"
     ]
    }
   ],
   "source": [
    "import os\n",
    "import matplotlib.pyplot as plt\n",
    "\n",
    "%pylab inline\n",
    "\n",
    "\n",
    "import numpy as np\n",
    "from astropy.io import fits\n",
    "from astropy.table import Table\n",
    "import desispec.io\n",
    "import desisim.io\n",
    "from desisim.obs import new_exposure\n",
    "from desisim.scripts import quickgen\n",
    "from desispec.scripts import group_spectra\n",
    "\n",
    "\n"
   ]
  },
  {
   "cell_type": "markdown",
   "metadata": {},
   "source": [
    "## Environment variables and data\n",
    "\n",
    "We will specify the enviroment variables, specially where to find the DESI spectra templates, and where do we want to save the simulated spectra. Then check enviroment variables. I assumes the desi enviroment is already set. "
   ]
  },
  {
   "cell_type": "code",
   "execution_count": 2,
   "metadata": {
    "collapsed": false
   },
   "outputs": [
    {
     "name": "stdout",
     "output_type": "stream",
     "text": [
      "DESIMODEL environment set to /global/common/cori/contrib/desi/desiconda/current/code/desimodel/master\n",
      "DESI_ROOT environment set to /global/project/projectdirs/desi\n",
      "DESI_SPECTRO_SIM environment set to /global/project/projectdirs/desi/spectro/sim\n",
      "DESI_SPECTRO_DATA environment set to /global/project/projectdirs/desi/spectro/data\n",
      "DESI_SPECTRO_REDUX environment set to /global/project/projectdirs/desi/spectro/redux\n",
      "SPECPROD environment set to alxogm\n",
      "PIXPROD environment set to alxogm\n",
      "env: SPECPROD=alxogm/test_qso_only\n",
      "env: PIXPROD=alxogm/test_qso_only\n",
      "env: DESI_SPECTRO_DATA=/global/project/projectdirs/desi/spectro/sim/alxogm/test_qso_only/\n",
      "Simulated raw data will be written to /global/project/projectdirs/desi/spectro/sim/alxogm/test_qso_only/\n",
      "Pipeline will read raw data from /global/project/projectdirs/desi/spectro/sim/alxogm/test_qso_only/\n",
      "    (without knowing that it was simulated)\n",
      "Pipeline will write processed data to /global/project/projectdirs/desi/spectro/redux/alxogm/test_qso_only\n"
     ]
    }
   ],
   "source": [
    "def check_env():\n",
    "    for env in ('DESIMODEL', 'DESI_ROOT', 'DESI_SPECTRO_SIM', 'DESI_SPECTRO_DATA', \n",
    "            'DESI_SPECTRO_REDUX', 'SPECPROD', 'PIXPROD'):\n",
    "        if env in os.environ:\n",
    "            print('{} environment set to {}'.format(env, os.getenv(env)))\n",
    "        else:\n",
    "            print('Required environment variable {} not set!'.format(env))\n",
    "            \n",
    "check_env()\n",
    "\n",
    "%set_env SPECPROD=alxogm/test_qso_only\n",
    "%set_env PIXPROD=alxogm/test_qso_only\n",
    "rawdata_dir = desisim.io.simdir()\n",
    "%set_env DESI_SPECTRO_DATA=$rawdata_dir\n",
    "\n",
    "print('Simulated raw data will be written to {}'.format(desisim.io.simdir()))\n",
    "print('Pipeline will read raw data from {}'.format(desispec.io.rawdata_root()))\n",
    "print('    (without knowing that it was simulated)')\n",
    "print('Pipeline will write processed data to {}'.format(desispec.io.specprod_root()))"
   ]
  },
  {
   "cell_type": "markdown",
   "metadata": {},
   "source": [
    "# Generate Noisless Spectra. \n",
    "We will use the \"new_exposure\" function to generate noiseless spectra, this requires the following parameters: "
   ]
  },
  {
   "cell_type": "code",
   "execution_count": 3,
   "metadata": {
    "collapsed": true
   },
   "outputs": [],
   "source": [
    "# Here we are  genereting 1000 quasar spectra, the seed and night are set to date, so that we know when this was generated \n",
    "# and can be reproduced. \n",
    "nspec = 100\n",
    "seed = 20171108\n",
    "flavor = 'QSO'     ##Change to QSO, if one wants to mainly generate QSO's   \n",
    "night = '20171108'\n",
    "expid = 0\n",
    "#It will geneterate some stars according to modelin os.getenv('DESIMODEL')+'/data/spectra/spec-sky.dat'"
   ]
  },
  {
   "cell_type": "code",
   "execution_count": 6,
   "metadata": {
    "collapsed": true
   },
   "outputs": [],
   "source": [
    "new_exposure?"
   ]
  },
  {
   "cell_type": "code",
   "execution_count": 17,
   "metadata": {
    "collapsed": true
   },
   "outputs": [],
   "source": []
  },
  {
   "cell_type": "code",
   "execution_count": 18,
   "metadata": {
    "collapsed": false
   },
   "outputs": [
    {
     "name": "stdout",
     "output_type": "stream",
     "text": [
      "DEBUG:obs.py:300:get_next_tileid: 8038 tiles in program DARK\n",
      "DEBUG:obs.py:301:get_next_tileid: 0 observed tiles\n",
      "DEBUG:obs.py:106:new_exposure: Generating 100 targets\n",
      "DEBUG:targets.py:199:get_targets_parallel: Parallelizing get_targets using 10 cores\n",
      "DEBUG:targets.py:262:get_targets: Using random seed 173199834\n",
      "DEBUG:targets.py:262:get_targets: Using random seed 399221677\n",
      "DEBUG:targets.py:262:get_targets: Using random seed 3986322200\n",
      "DEBUG:targets.py:262:get_targets: Using random seed 1752800989\n",
      "DEBUG:targets.py:262:get_targets: Using random seed 1924846550\n",
      "DEBUG:targets.py:262:get_targets: Using random seed 1735750\n",
      "DEBUG:targets.py:262:get_targets: Using random seed 3007262638\n",
      "DEBUG:targets.py:262:get_targets: Using random seed 3414305311\n",
      "DEBUG:targets.py:262:get_targets: Using random seed 3302422542\n",
      "DEBUG:targets.py:262:get_targets: Using random seed 825985114\n",
      "INFO:io.py:966:read_basis_templates: Reading /global/project/projectdirs/desi/spectro/templates/basis_templates/v2.3/star_templates_v2.1.fits\n",
      "INFO:io.py:966:read_basis_templates: Reading /global/project/projectdirs/desi/spectro/templates/basis_templates/v2.3/star_templates_v2.1.fits\n",
      "INFO:io.py:966:read_basis_templates: Reading /global/project/projectdirs/desi/spectro/templates/basis_templates/v2.3/star_templates_v2.1.fits\n",
      "INFO:io.py:966:read_basis_templates: Reading /global/project/projectdirs/desi/spectro/templates/basis_templates/v2.3/star_templates_v2.1.fits\n",
      "INFO:io.py:966:read_basis_templates: Reading /global/project/projectdirs/desi/spectro/templates/basis_templates/v2.3/star_templates_v2.1.fits\n",
      "INFO:io.py:966:read_basis_templates: Reading /global/project/projectdirs/desi/spectro/templates/basis_templates/v2.3/star_templates_v2.1.fits\n",
      "INFO:io.py:966:read_basis_templates: Reading /global/project/projectdirs/desi/spectro/templates/basis_templates/v2.3/star_templates_v2.1.fits\n",
      "INFO:io.py:966:read_basis_templates: Reading /global/project/projectdirs/desi/spectro/templates/basis_templates/v2.3/star_templates_v2.1.fits\n",
      "INFO:io.py:966:read_basis_templates: Reading /global/project/projectdirs/desi/spectro/templates/basis_templates/v2.3/star_templates_v2.1.fits\n",
      "INFO:io.py:966:read_basis_templates: Reading /global/project/projectdirs/desi/spectro/templates/basis_templates/v2.3/star_templates_v2.1.fits\n"
     ]
    },
    {
     "name": "stderr",
     "output_type": "stream",
     "text": [
      "/global/common/cori/contrib/desi/desiconda/current/code/desisim/master/py/desisim/targets.py:368: RuntimeWarning: invalid value encountered in log10\n",
      "  fibermap['MAG'][ii, 3] = 22.5 - 2.5 * np.log10(meta['FLUX_W1'][ii])\n",
      "/global/common/cori/contrib/desi/desiconda/current/code/desisim/master/py/desisim/targets.py:368: RuntimeWarning: invalid value encountered in log10\n",
      "  fibermap['MAG'][ii, 3] = 22.5 - 2.5 * np.log10(meta['FLUX_W1'][ii])\n",
      "/global/common/cori/contrib/desi/desiconda/current/code/desisim/master/py/desisim/targets.py:368: RuntimeWarning: invalid value encountered in log10\n",
      "  fibermap['MAG'][ii, 3] = 22.5 - 2.5 * np.log10(meta['FLUX_W1'][ii])\n"
     ]
    },
    {
     "name": "stdout",
     "output_type": "stream",
     "text": [
      "DEBUG:simexp.py:379:simulate_spectra: loading specsim desi config\n",
      "DEBUG:simexp.py:383:simulate_spectra: creating specsim desi simulator\n",
      "DEBUG:specsim.py:39:get_simulator: Creating new  Simulator\n",
      "INFO:simexp.py:404:simulate_spectra: MJD not in obsconditions, using DATE-OBS 2009-06-18T12:00:00.000\n",
      "DEBUG:simexp.py:408:simulate_spectra: obsconditions MOONFRAC = 0.0\n",
      "DEBUG:simexp.py:408:simulate_spectra: obsconditions MOONSEP = 180\n",
      "DEBUG:simexp.py:408:simulate_spectra: obsconditions SEEING = 1.1\n",
      "DEBUG:simexp.py:408:simulate_spectra: obsconditions MOONALT = -60\n",
      "DEBUG:simexp.py:408:simulate_spectra: obsconditions AIRMASS = 1.0\n",
      "DEBUG:simexp.py:408:simulate_spectra: obsconditions EXPTIME = 1000\n",
      "DEBUG:simexp.py:611:get_source_types: qso 70 targets\n",
      "DEBUG:simexp.py:611:get_source_types: sky 20 targets\n",
      "DEBUG:simexp.py:611:get_source_types: star 10 targets\n",
      "DEBUG:simexp.py:449:simulate_spectra: running simulation with fastsim fiber loss method\n",
      "DEBUG:simexp.py:455:simulate_spectra: source types: 10 star 70 qso 20 sky\n",
      "INFO:io.py:154:write_simspec: DATE-OBS 2017-11-08T22:00:00 UTC\n",
      "INFO:io.py:230:write_simspec: Writing /global/project/projectdirs/desi/spectro/sim/alxogm/test_qso_only/20171108/simspec-00000000.fits\n",
      "INFO:obs.py:210:new_exposure: Wrote /global/project/projectdirs/desi/spectro/sim/alxogm/test_qso_only/20171108/fibermap-00000000.fits\n"
     ]
    }
   ],
   "source": [
    "'''Uncomment this lines if you want to generate  fibermap and simspec files to simulate the spectra, instead of using files \n",
    "previously generated'''\n",
    "sim, fibermap, meta, obsconditions = new_exposure('qso', nspec=nspec, seed=seed, night=night, \n",
    "                               expid=expid)"
   ]
  },
  {
   "cell_type": "markdown",
   "metadata": {},
   "source": [
    "Now that the fiber and simspec files were generated we proceed to simulate de spectra using quickgen function.\n",
    "NOTE: The quickspectra function is in github, but for some reason I can not see it from my instalation, I'll check if it is available in  NERSC. "
   ]
  },
  {
   "cell_type": "code",
   "execution_count": 6,
   "metadata": {
    "collapsed": true
   },
   "outputs": [],
   "source": [
    "'''Uncomment this lines if you want to use the fibermap and simspec files generated in advance '''\n",
    "fiberfile = desispec.io.findfile('fibermap', night=night, expid=expid)\n",
    "simspecfile = desisim.io.findfile('simspec', night=night, expid=expid)"
   ]
  },
  {
   "cell_type": "markdown",
   "metadata": {},
   "source": [
    "\n"
   ]
  },
  {
   "cell_type": "code",
   "execution_count": 5,
   "metadata": {
    "collapsed": false
   },
   "outputs": [
    {
     "name": "stdout",
     "output_type": "stream",
     "text": [
      "Reading fibermap file /global/project/projectdirs/desi/spectro/sim/alxogm/test_qso_only/20171108/fibermap-00000000.fits\n",
      "Reading simspec file /global/project/projectdirs/desi/spectro/sim/alxogm/test_qso_only/20171108/simspec-00000000.fits.\n"
     ]
    }
   ],
   "source": [
    "'''Uncomment this lines if you want to plot the redshift distribution generated by the previous result of \n",
    "a new_exposure function, otherwise just  plot the distribution in the next cell'''\n",
    "print('Reading fibermap file {}'.format(fiberfile))\n",
    "hdu = fits.open(fiberfile)      \n",
    "fibermap = Table(hdu['FIBERMAP'].data)\n",
    "hdu.close()\n",
    "print('Reading simspec file {}.'.format(simspecfile))\n",
    "hdu = fits.open(simspecfile)\n",
    "meta = Table(hdu['TRUTH'].data)\n",
    "hdu.close()"
   ]
  },
  {
   "cell_type": "code",
   "execution_count": 19,
   "metadata": {
    "collapsed": false
   },
   "outputs": [
    {
     "data": {
      "text/plain": [
       "(-0.2, 4.3501747131347663)"
      ]
     },
     "execution_count": 19,
     "metadata": {},
     "output_type": "execute_result"
    },
    {
     "data": {
      "image/png": "[encoded data removed]",
      "text/plain": [
       "<matplotlib.figure.Figure at 0x2b7475bab2e8>"
      ]
     },
     "metadata": {},
     "output_type": "display_data"
    }
   ],
   "source": [
    "allobjtype = meta['OBJTYPE']\n",
    "redlim = (-0.2, 1.1*meta['REDSHIFT'].max())\n",
    "fig, ax = plt.subplots()\n",
    "for objtype in sorted(set(allobjtype)):\n",
    "    indx = objtype == allobjtype\n",
    "    hh = ax.hist(meta['REDSHIFT'][indx], bins=25, \n",
    "                 label=objtype, alpha=0.5, range=redlim)\n",
    "    \n",
    "ax.set_xlabel('Redshift')\n",
    "ax.set_ylabel('Number of Simulated Spectra')\n",
    "ax.legend(loc='upper right', ncol=3)\n",
    "ax.margins(0.2)\n",
    "ax.set_xlim(redlim)"
   ]
  },
  {
   "cell_type": "code",
   "execution_count": 20,
   "metadata": {
    "collapsed": false
   },
   "outputs": [
    {
     "name": "stdout",
     "output_type": "stream",
     "text": [
      "INFO:quickgen.py:239:main: Reading fibermap file /global/project/projectdirs/desi/spectro/sim/alxogm/test_qso_only/20171108/fibermap-00000000.fits\n",
      "DEBUG:simexp.py:611:get_source_types: qso 70 targets\n",
      "DEBUG:simexp.py:611:get_source_types: sky 20 targets\n",
      "DEBUG:simexp.py:611:get_source_types: star 10 targets\n",
      "INFO:quickgen.py:272:main: Initializing SpecSim with config desi\n",
      "DEBUG:specsim.py:39:get_simulator: Creating new desi Simulator\n",
      "INFO:quickgen.py:278:main: Reading input file /global/project/projectdirs/desi/spectro/sim/alxogm/test_qso_only/20171108/simspec-00000000.fits\n",
      "INFO:quickgen.py:675:main: Writing files for channel:b, spectrograph:0, spectra:0 to 100\n",
      "INFO:quickgen.py:702:main: Wrote file /global/project/projectdirs/desi/spectro/redux/alxogm/test_qso_only/exposures/20171108/00000000/frame-b0-00000000.fits\n",
      "INFO:quickgen.py:720:main: Wrote file /global/project/projectdirs/desi/spectro/redux/alxogm/test_qso_only/exposures/20171108/00000000/cframe-b0-00000000.fits\n",
      "INFO:quickgen.py:735:main: Wrote file /global/project/projectdirs/desi/spectro/redux/alxogm/test_qso_only/exposures/20171108/00000000/sky-b0-00000000.fits\n",
      "INFO:quickgen.py:756:main: Wrote file /global/project/projectdirs/desi/spectro/redux/alxogm/test_qso_only/exposures/20171108/00000000/calib-b0-00000000.fits\n",
      "INFO:quickgen.py:675:main: Writing files for channel:r, spectrograph:0, spectra:0 to 100\n"
     ]
    },
    {
     "name": "stderr",
     "output_type": "stream",
     "text": [
      "WARNING: VerifyWarning: Card is too long, comment will be truncated. [astropy.io.fits.card]\n"
     ]
    },
    {
     "name": "stdout",
     "output_type": "stream",
     "text": [
      "INFO:quickgen.py:702:main: Wrote file /global/project/projectdirs/desi/spectro/redux/alxogm/test_qso_only/exposures/20171108/00000000/frame-r0-00000000.fits\n",
      "INFO:quickgen.py:720:main: Wrote file /global/project/projectdirs/desi/spectro/redux/alxogm/test_qso_only/exposures/20171108/00000000/cframe-r0-00000000.fits\n",
      "INFO:quickgen.py:735:main: Wrote file /global/project/projectdirs/desi/spectro/redux/alxogm/test_qso_only/exposures/20171108/00000000/sky-r0-00000000.fits\n",
      "INFO:quickgen.py:756:main: Wrote file /global/project/projectdirs/desi/spectro/redux/alxogm/test_qso_only/exposures/20171108/00000000/calib-r0-00000000.fits\n",
      "INFO:quickgen.py:675:main: Writing files for channel:z, spectrograph:0, spectra:0 to 100\n",
      "INFO:quickgen.py:702:main: Wrote file /global/project/projectdirs/desi/spectro/redux/alxogm/test_qso_only/exposures/20171108/00000000/frame-z0-00000000.fits\n",
      "INFO:quickgen.py:720:main: Wrote file /global/project/projectdirs/desi/spectro/redux/alxogm/test_qso_only/exposures/20171108/00000000/cframe-z0-00000000.fits\n",
      "INFO:quickgen.py:735:main: Wrote file /global/project/projectdirs/desi/spectro/redux/alxogm/test_qso_only/exposures/20171108/00000000/sky-z0-00000000.fits\n",
      "INFO:quickgen.py:756:main: Wrote file /global/project/projectdirs/desi/spectro/redux/alxogm/test_qso_only/exposures/20171108/00000000/calib-z0-00000000.fits\n"
     ]
    }
   ],
   "source": [
    "#outdir_truth option seems not to work... \n",
    "args = quickgen.parse([\n",
    "    '--simspec', simspecfile,\n",
    "    '--fibermap', fiberfile,\n",
    "    '-n 100','--outdir-truth', desisim.io.simdir(),\n",
    "])\n",
    "quickgen.main(args)"
   ]
  },
  {
   "cell_type": "markdown",
   "metadata": {},
   "source": [
    "We have genereted the simmulated spectra, before analyzing them with redrock, we group them in the brick format "
   ]
  },
  {
   "cell_type": "code",
   "execution_count": 21,
   "metadata": {
    "collapsed": false
   },
   "outputs": [
    {
     "name": "stdout",
     "output_type": "stream",
     "text": [
      "INFO:group_spectra.py:74:main: Starting at Wed Nov  8 06:43:11 2017\n",
      "INFO:group_spectra.py:75:main:   using raw dir /global/project/projectdirs/desi/spectro/sim/alxogm/test_qso_only\n",
      "INFO:group_spectra.py:76:main:   using spectro production dir /global/project/projectdirs/desi/spectro/redux/alxogm/test_qso_only\n",
      "INFO:group_spectra.py:197:main: Distributing 2 spectral groups among 1 processes\n",
      "INFO:group_spectra.py:220:main:   (0000) Begin spectral group spectra-64-12637 at Wed Nov  8 06:43:11 2017\n",
      "INFO:group_spectra.py:294:main:   (0000) End spectral group spectra-64-12637 at Wed Nov  8 06:44:33 2017\n",
      "INFO:group_spectra.py:220:main:   (0000) Begin spectral group spectra-64-12639 at Wed Nov  8 06:44:33 2017\n",
      "INFO:group_spectra.py:294:main:   (0000) End spectral group spectra-64-12639 at Wed Nov  8 06:44:53 2017\n",
      "INFO:group_spectra.py:301:main: Finishing at Wed Nov  8 06:44:53 2017\n"
     ]
    }
   ],
   "source": [
    "nside = 64\n",
    "args = group_spectra.parse(['--hpxnside', '{}'.format(nside),'--nights','{}'.format(night)])\n",
    "group_spectra.main(args)"
   ]
  },
  {
   "cell_type": "markdown",
   "metadata": {},
   "source": [
    "TODO: I couldnt find the script to run redrock from the notebook. In the meantime it can be run from the terminal as in this example:\n",
    "\n",
    "rrdesi --zbest zbest-64-12637.fits --output spectra-64-12637.h5 spectra-64-12637.fits -ncpu 10\n",
    "\n",
    "NOTE: by default uses all CPU available, so we should limit it. For larger samples it is best to make a script to run rrdesi over the different bricks. \n",
    "\n",
    "\n",
    "    "
   ]
  },
  {
   "cell_type": "markdown",
   "metadata": {},
   "source": [
    "Next we analyze the redrock output by comparing the redshift histogram from the redrock output \n",
    "to that from the original fibermap and specsim files. If fibermap, simspec and redrock output was generated in a previous jupyter sesion, we can start the notebook in this point. We then should uncooment the following cell"
   ]
  },
  {
   "cell_type": "code",
   "execution_count": 1,
   "metadata": {
    "collapsed": false
   },
   "outputs": [
    {
     "name": "stdout",
     "output_type": "stream",
     "text": [
      "Populating the interactive namespace from numpy and matplotlib\n",
      "DESIMODEL environment set to /global/common/cori/contrib/desi/desiconda/current/code/desimodel/master\n",
      "DESI_ROOT environment set to /global/project/projectdirs/desi\n",
      "DESI_SPECTRO_SIM environment set to /global/project/projectdirs/desi/spectro/sim\n",
      "DESI_SPECTRO_DATA environment set to /global/project/projectdirs/desi/spectro/data\n",
      "DESI_SPECTRO_REDUX environment set to /global/project/projectdirs/desi/spectro/redux\n",
      "SPECPROD environment set to alxogm\n",
      "PIXPROD environment set to alxogm\n",
      "env: SPECPROD=alxogm/test_qso_only\n",
      "env: PIXPROD=alxogm/test_qso_only\n",
      "env: DESI_SPECTRO_DATA=/global/project/projectdirs/desi/spectro/sim/alxogm/test_qso_only/\n",
      "/global/project/projectdirs/desi/spectro/redux/alxogm/test_qso_only\n",
      "/global/project/projectdirs/desi/spectro/redux/alxogm/test_qso_only/exposures\n",
      "/global/project/projectdirs/desi/spectro/redux/alxogm/test_qso_only/exposures/20171108\n",
      "/global/project/projectdirs/desi/spectro/redux/alxogm/test_qso_only/exposures/20171108/00000000\n",
      "/global/project/projectdirs/desi/spectro/redux/alxogm/test_qso_only/exposures/20171108/00000000/calib-b0-00000000.fits\n",
      "/global/project/projectdirs/desi/spectro/redux/alxogm/test_qso_only/exposures/20171108/00000000/calib-r0-00000000.fits\n",
      "/global/project/projectdirs/desi/spectro/redux/alxogm/test_qso_only/exposures/20171108/00000000/calib-z0-00000000.fits\n",
      "/global/project/projectdirs/desi/spectro/redux/alxogm/test_qso_only/exposures/20171108/00000000/cframe-b0-00000000.fits\n",
      "/global/project/projectdirs/desi/spectro/redux/alxogm/test_qso_only/exposures/20171108/00000000/cframe-r0-00000000.fits\n",
      "/global/project/projectdirs/desi/spectro/redux/alxogm/test_qso_only/exposures/20171108/00000000/cframe-z0-00000000.fits\n",
      "/global/project/projectdirs/desi/spectro/redux/alxogm/test_qso_only/exposures/20171108/00000000/frame-b0-00000000.fits\n",
      "/global/project/projectdirs/desi/spectro/redux/alxogm/test_qso_only/exposures/20171108/00000000/frame-r0-00000000.fits\n",
      "/global/project/projectdirs/desi/spectro/redux/alxogm/test_qso_only/exposures/20171108/00000000/frame-z0-00000000.fits\n",
      "/global/project/projectdirs/desi/spectro/redux/alxogm/test_qso_only/exposures/20171108/00000000/sky-b0-00000000.fits\n",
      "/global/project/projectdirs/desi/spectro/redux/alxogm/test_qso_only/exposures/20171108/00000000/sky-r0-00000000.fits\n",
      "/global/project/projectdirs/desi/spectro/redux/alxogm/test_qso_only/exposures/20171108/00000000/sky-z0-00000000.fits\n",
      "/global/project/projectdirs/desi/spectro/redux/alxogm/test_qso_only/spectra-64\n",
      "/global/project/projectdirs/desi/spectro/redux/alxogm/test_qso_only/spectra-64/126\n",
      "/global/project/projectdirs/desi/spectro/redux/alxogm/test_qso_only/spectra-64/126/12637\n",
      "/global/project/projectdirs/desi/spectro/redux/alxogm/test_qso_only/spectra-64/126/12637/spectra-64-12637.fits\n",
      "/global/project/projectdirs/desi/spectro/redux/alxogm/test_qso_only/spectra-64/126/12637/spectra-64-12637.h5\n",
      "/global/project/projectdirs/desi/spectro/redux/alxogm/test_qso_only/spectra-64/126/12637/zbest-spectra-64-12637.fits\n",
      "/global/project/projectdirs/desi/spectro/redux/alxogm/test_qso_only/spectra-64/126/12639\n",
      "/global/project/projectdirs/desi/spectro/redux/alxogm/test_qso_only/spectra-64/126/12639/spectra-64-12639.fits\n",
      "/global/project/projectdirs/desi/spectro/redux/alxogm/test_qso_only/spectra-64/126/12639/spectra-64-12639.h5\n",
      "/global/project/projectdirs/desi/spectro/redux/alxogm/test_qso_only/spectra-64/126/12639/zbest-64-12639.fits\n"
     ]
    }
   ],
   "source": [
    "import os\n",
    "import matplotlib.pyplot as plt\n",
    "\n",
    "\n",
    "%pylab inline\n",
    "import numpy as np\n",
    "from astropy.io import fits\n",
    "from astropy.table import Table,vstack\n",
    "import desispec.io\n",
    "import desisim.io\n",
    "\n",
    "def check_env():\n",
    "    for env in ('DESIMODEL', 'DESI_ROOT', 'DESI_SPECTRO_SIM', 'DESI_SPECTRO_DATA', \n",
    "            'DESI_SPECTRO_REDUX', 'SPECPROD', 'PIXPROD'):\n",
    "        if env in os.environ:\n",
    "            print('{} environment set to {}'.format(env, os.getenv(env)))\n",
    "        else:\n",
    "            print('Required environment variable {} not set!'.format(env))\n",
    "check_env()\n",
    "\n",
    "%set_env SPECPROD=alxogm/test_qso_only\n",
    "%set_env PIXPROD=alxogm/test_qso_only\n",
    "rawdata_dir = desisim.io.simdir()\n",
    "%set_env DESI_SPECTRO_DATA=$rawdata_dir\n",
    "\n",
    "night = '20171108'\n",
    "expid = 0\n",
    "fiberfile = desispec.io.findfile('fibermap', night=night, expid=expid)\n",
    "simspecfile = desisim.io.findfile('simspec', night=night, expid=expid)\n",
    "reduxdir = desispec.io.specprod_root()\n",
    "!find $reduxdir | sort"
   ]
  },
  {
   "cell_type": "code",
   "execution_count": 2,
   "metadata": {
    "collapsed": false
   },
   "outputs": [
    {
     "name": "stdout",
     "output_type": "stream",
     "text": [
      "Reading fibermap file /global/project/projectdirs/desi/spectro/sim/alxogm/test_qso_only/20171108/fibermap-00000000.fits\n",
      "Reading simspec file /global/project/projectdirs/desi/spectro/sim/alxogm/test_qso_only/20171108/simspec-00000000.fits.\n"
     ]
    }
   ],
   "source": [
    "print('Reading fibermap file {}'.format(fiberfile))\n",
    "hdu = fits.open(fiberfile)\n",
    "fibermap = Table(hdu['FIBERMAP'].data)\n",
    "hdu.close()\n",
    "print('Reading simspec file {}.'.format(simspecfile))\n",
    "hdu = fits.open(simspecfile)\n",
    "meta = Table(hdu['TRUTH'].data)\n",
    "hdu.close()\n"
   ]
  },
  {
   "cell_type": "code",
   "execution_count": 6,
   "metadata": {
    "collapsed": false
   },
   "outputs": [],
   "source": [
    "specfile = desispec.io.findfile('spectra', groupname='12637', nside=64)\n",
    "zbestfile = desispec.io.findfile('zbest', groupname='12637', nside=64)\n",
    "spectra = desispec.io.read_spectra(specfile)\n",
    "zbest = Table.read(zbestfile)\n",
    "#print (len(zbest))"
   ]
  },
  {
   "cell_type": "markdown",
   "metadata": {},
   "source": [
    "Lets use the TARGETID's from zbest to look for them in the fibermap to get the true REDSHIFT and SPECTYPE of such sources. We save that in  the ztruth table."
   ]
  },
  {
   "cell_type": "code",
   "execution_count": 7,
   "metadata": {
    "collapsed": true
   },
   "outputs": [],
   "source": [
    "ztruth=meta[fibermap['TARGETID']==zbest['TARGETID'][0]]\n",
    "\n",
    "for i in range(1,len(zbest)):\n",
    "    tmp=meta[fibermap['TARGETID']==zbest['TARGETID'][i]]\n",
    "    ztruth=vstack([ztruth,tmp])\n"
   ]
  },
  {
   "cell_type": "markdown",
   "metadata": {},
   "source": [
    "Now we make the histogram of sources at a given redshift for both the sources in zbest, and fibermap. Ideally these should look like the same. "
   ]
  },
  {
   "cell_type": "code",
   "execution_count": 21,
   "metadata": {
    "collapsed": false
   },
   "outputs": [
    {
     "name": "stdout",
     "output_type": "stream",
     "text": [
      "zbest results from Redrock on /global/project/projectdirs/desi/spectro/redux/alxogm/test_qso_only/spectra-64/126/12637/zbest-64-12637.fits\n",
      "GALAXY : 22.0\n",
      "QSO : 48.0\n",
      "STAR : 5.0\n",
      "Ztruth the /global/project/projectdirs/desi/spectro/sim/alxogm/test_qso_only/20171108/simspec-00000000.fits file\n",
      "FSTD : 5.0\n",
      "QSO : 55.0\n",
      "SKY : 15.0\n"
     ]
    },
    {
     "data": {
      "text/plain": [
       "<matplotlib.legend.Legend at 0x2ae652f0b208>"
      ]
     },
     "execution_count": 21,
     "metadata": {},
     "output_type": "execute_result"
    },
    {
     "data": {
      "image/png": "[encoded data removed]",
      "text/plain": [
       "<matplotlib.figure.Figure at 0x2ae652fc8208>"
      ]
     },
     "metadata": {},
     "output_type": "display_data"
    }
   ],
   "source": [
    "fig.clear()\n",
    "fig, ax = plt.subplots(2,1,figsize=(10,10))\n",
    "\n",
    "print('zbest results from Redrock on {}'.format(zbestfile))\n",
    "for spectype in sorted(set(zbest['SPECTYPE'])):\n",
    "    if spectype=='STAR':\n",
    "        color='orangered'\n",
    "    if spectype=='GALAXY':\n",
    "        color='b'\n",
    "    if spectype=='QSO':\n",
    "        color='g'\n",
    "    jj = (zbest['SPECTYPE'] == spectype)\n",
    "   # print(spectype,':',sum(hist(zbest['Z'][jj], 25, (-0.1,4.4))[0]))\n",
    "    nhist=ax[0].hist(zbest['Z'][jj], 25, (-0.1,4.4),color=color,label=format(spectype),alpha=0.5)[0]\n",
    "    print(spectype,':',sum(nhist))\n",
    "\n",
    "\n",
    "    ax[0].set_ylim(0,10)\n",
    "ax[0].set_title('Redrock output (group=12637)')\n",
    "\n",
    "print('Ztruth the {} file'.format(simspecfile))\n",
    "\n",
    "allobjtype = meta['OBJTYPE']\n",
    "for objtype in sorted(set(allobjtype)):\n",
    "    if objtype=='FSTD':\n",
    "        color='b'\n",
    "    if objtype=='SKY':\n",
    "        color='orangered'\n",
    "    if objtype=='QSO':\n",
    "        color='green'\n",
    "       # ax[0].hist(ztruth['REDSHIFT'][ii],25,(-0.1,4.4),color='black',label='true'+format(objtype),alpha=0.5)[0]\n",
    "\n",
    "\n",
    "    ii = (ztruth['OBJTYPE'] == objtype)\n",
    "    if objtype=='QSO':\n",
    "        ax[0].hist(ztruth['REDSHIFT'][ii],25,(-0.1,4.4),color='black',label='true'+format(objtype),alpha=0.5)[0]\n",
    "    \n",
    "    nhist=ax[1].hist(ztruth['REDSHIFT'][ii],25,(-0.1,4.4),color=color,label=format(objtype),alpha=0.5)[0]\n",
    "    ax[1].set_ylim(0,10)\n",
    "    print(objtype,':',sum(nhist))\n",
    "ax[1].set_title('Truth redshift distribution (specsim & fibermap)')\n",
    "fig.subplots_adjust(hspace=0.2)\n",
    "ax[0].legend(loc='upper right')\n",
    "ax[1].legend(loc='upper right')\n",
    "\n",
    "\n",
    "\n",
    "\n",
    "\n",
    "    \n",
    "\n"
   ]
  },
  {
   "cell_type": "markdown",
   "metadata": {},
   "source": [
    "We can see that for the spectra-64-12637 group, not all  QSO's were correctly identified  (As oposed to what I got when running with the DESI 17.6 branch ...\n",
    "\n",
    "TODO: make a larger sample, and analyze the failures..."
   ]
  },
  {
   "cell_type": "code",
   "execution_count": null,
   "metadata": {
    "collapsed": true
   },
   "outputs": [],
   "source": []
  }
 ],
 "metadata": {
  "anaconda-cloud": {},
  "kernelspec": {
   "display_name": "DESI master",
   "language": "python",
   "name": "desi-master"
  },
  "language_info": {
   "codemirror_mode": {
    "name": "ipython",
    "version": 3
   },
   "file_extension": ".py",
   "mimetype": "text/x-python",
   "name": "python",
   "nbconvert_exporter": "python",
   "pygments_lexer": "ipython3",
   "version": "3.5.3"
  }
 },
 "nbformat": 4,
 "nbformat_minor": 2
}
