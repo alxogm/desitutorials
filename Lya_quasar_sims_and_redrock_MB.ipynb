{
 "cells": [
  {
   "cell_type": "markdown",
   "metadata": {},
   "source": [
    "# Quasar Redshift Estimates with Redrock. DESI simulated Spectra\n",
    "\n",
    "The goal of this notebook is to generate a set of quasar spectra simulations, that are then analized with redrock to obtain the \n",
    "redshift.  \n",
    "We assume that desi code is installed as described in :\n",
    "https://desi.lbl.gov/trac/wiki/Pipeline/GettingStarted/Laptop/JuneMeeting\n",
    "The only identified issue is with astropy v2, this should be downgraded to v1.3.3, after installing healpy. If installed before, healpy will upgrade again and then functions dealing with writting fits files will complain.\n",
    "\n",
    "TODO:Check that there is a warning when calling the new_exposure funcion..\n",
    "\n",
    "First we import the basic modules we need. "
   ]
  },
  {
   "cell_type": "code",
   "execution_count": 1,
   "metadata": {},
   "outputs": [
    {
     "name": "stdout",
     "output_type": "stream",
     "text": [
      "Populating the interactive namespace from numpy and matplotlib\n"
     ]
    },
    {
     "name": "stderr",
     "output_type": "stream",
     "text": [
      "/global/common/cori/contrib/desi/desiconda/20170613-1.1.4-spectro/code/desiconda/20170613-1.1.4-spectro_conda/lib/python3.5/site-packages/matplotlib/__init__.py:1405: UserWarning: \n",
      "This call to matplotlib.use() has no effect because the backend has already\n",
      "been chosen; matplotlib.use() must be called *before* pylab, matplotlib.pyplot,\n",
      "or matplotlib.backends is imported for the first time.\n",
      "\n",
      "  warnings.warn(_use_error_msg)\n"
     ]
    }
   ],
   "source": [
    "import os\n",
    "import matplotlib.pyplot as plt\n",
    "\n",
    "%pylab inline\n",
    "\n",
    "\n",
    "import numpy as np\n",
    "from astropy.io import fits\n",
    "from astropy.table import Table\n",
    "import desispec.io\n",
    "import desisim.io\n",
    "from desisim.obs import new_exposure\n",
    "from desisim.scripts import quickgen\n",
    "from desispec.scripts import group_spectra\n",
    "\n",
    "\n"
   ]
  },
  {
   "cell_type": "markdown",
   "metadata": {},
   "source": [
    "## Environment variables and data\n",
    "\n",
    "We will specify the enviroment variables, specially where to find the DESI spectra templates, and where do we want to save the simulated spectra. Then check enviroment variables. I assumes the desi enviroment is already set. "
   ]
  },
  {
   "cell_type": "code",
   "execution_count": 2,
   "metadata": {},
   "outputs": [
    {
     "name": "stdout",
     "output_type": "stream",
     "text": [
      "DESIMODEL environment set to /global/common/cori/contrib/desi/desiconda/current/code/desimodel/master\n",
      "DESI_ROOT environment set to /global/project/projectdirs/desi\n",
      "DESI_SPECTRO_SIM environment set to /global/project/projectdirs/desi/spectro/sim\n",
      "DESI_SPECTRO_DATA environment set to /global/project/projectdirs/desi/spectro/data\n",
      "DESI_SPECTRO_REDUX environment set to /global/project/projectdirs/desi/spectro/redux\n",
      "SPECPROD environment set to alxogm\n",
      "PIXPROD environment set to alxogm\n",
      "env: SPECPROD=alxogm/test_qso_only2\n",
      "env: PIXPROD=alxogm/test_qso_only2\n",
      "env: DESI_SPECTRO_DATA=/global/project/projectdirs/desi/spectro/sim/alxogm/test_qso_only2/\n",
      "Simulated raw data will be written to /global/project/projectdirs/desi/spectro/sim/alxogm/test_qso_only2/\n",
      "Pipeline will read raw data from /global/project/projectdirs/desi/spectro/sim/alxogm/test_qso_only2/\n",
      "    (without knowing that it was simulated)\n",
      "Pipeline will write processed data to /global/project/projectdirs/desi/spectro/redux/alxogm/test_qso_only2\n"
     ]
    }
   ],
   "source": [
    "def check_env():\n",
    "    for env in ('DESIMODEL', 'DESI_ROOT', 'DESI_SPECTRO_SIM', 'DESI_SPECTRO_DATA', \n",
    "            'DESI_SPECTRO_REDUX', 'SPECPROD', 'PIXPROD'):\n",
    "        if env in os.environ:\n",
    "            print('{} environment set to {}'.format(env, os.getenv(env)))\n",
    "        else:\n",
    "            print('Required environment variable {} not set!'.format(env))\n",
    "            \n",
    "check_env()\n",
    "\n",
    "%set_env SPECPROD=alxogm/test_qso_only2\n",
    "%set_env PIXPROD=alxogm/test_qso_only2\n",
    "rawdata_dir = desisim.io.simdir()\n",
    "%set_env DESI_SPECTRO_DATA=$rawdata_dir\n",
    "\n",
    "print('Simulated raw data will be written to {}'.format(desisim.io.simdir()))\n",
    "print('Pipeline will read raw data from {}'.format(desispec.io.rawdata_root()))\n",
    "print('    (without knowing that it was simulated)')\n",
    "print('Pipeline will write processed data to {}'.format(desispec.io.specprod_root()))"
   ]
  },
  {
   "cell_type": "markdown",
   "metadata": {},
   "source": [
    "# Generate Noisless Spectra. \n",
    "We will use the \"new_exposure\" function to generate noiseless spectra, this requires the following parameters: "
   ]
  },
  {
   "cell_type": "code",
   "execution_count": 6,
   "metadata": {},
   "outputs": [],
   "source": [
    "# Here we are  genereting 1000 quasar spectra, the seed and night are set to date, so that we know when this was generated \n",
    "# and can be reproduced. \n",
    "nspec = 100\n",
    "seed = 20171205\n",
    "flavor = 'QSO'     ##Change to QSO, if one wants to mainly generate QSO's   \n",
    "night = '20171205'\n",
    "expid = 0\n",
    "#It will geneterate some stars according to modelin os.getenv('DESIMODEL')+'/data/spectra/spec-sky.dat'"
   ]
  },
  {
   "cell_type": "code",
   "execution_count": 5,
   "metadata": {},
   "outputs": [],
   "source": [
    "new_exposure?"
   ]
  },
  {
   "cell_type": "code",
   "execution_count": 17,
   "metadata": {
    "collapsed": true
   },
   "outputs": [],
   "source": []
  },
  {
   "cell_type": "code",
   "execution_count": 7,
   "metadata": {},
   "outputs": [
    {
     "name": "stderr",
     "output_type": "stream",
     "text": [
      "/global/common/cori/contrib/desi/desiconda/current/code/desisim/master/py/desisim/targets.py:368: RuntimeWarning: invalid value encountered in log10\n",
      "  fibermap['MAG'][ii, 3] = 22.5 - 2.5 * np.log10(meta['FLUX_W1'][ii])\n"
     ]
    },
    {
     "name": "stdout",
     "output_type": "stream",
     "text": [
      "INFO:io.py:967:read_basis_templates: Reading /global/project/projectdirs/desi/spectro/templates/basis_templates/v2.3/star_templates_v2.1.fits\n",
      "INFO:io.py:967:read_basis_templates: Reading /global/project/projectdirs/desi/spectro/templates/basis_templates/v2.3/star_templates_v2.1.fits\n",
      "INFO:io.py:967:read_basis_templates: Reading /global/project/projectdirs/desi/spectro/templates/basis_templates/v2.3/star_templates_v2.1.fits\n",
      "INFO:io.py:967:read_basis_templates: Reading /global/project/projectdirs/desi/spectro/templates/basis_templates/v2.3/star_templates_v2.1.fits\n",
      "INFO:io.py:967:read_basis_templates: Reading /global/project/projectdirs/desi/spectro/templates/basis_templates/v2.3/star_templates_v2.1.fits\n",
      "INFO:io.py:967:read_basis_templates: Reading /global/project/projectdirs/desi/spectro/templates/basis_templates/v2.3/star_templates_v2.1.fits\n",
      "INFO:io.py:967:read_basis_templates: Reading /global/project/projectdirs/desi/spectro/templates/basis_templates/v2.3/star_templates_v2.1.fits\n",
      "INFO:io.py:967:read_basis_templates: Reading /global/project/projectdirs/desi/spectro/templates/basis_templates/v2.3/star_templates_v2.1.fits\n"
     ]
    },
    {
     "name": "stderr",
     "output_type": "stream",
     "text": [
      "/global/common/cori/contrib/desi/desiconda/current/code/desisim/master/py/desisim/targets.py:368: RuntimeWarning: invalid value encountered in log10\n",
      "  fibermap['MAG'][ii, 3] = 22.5 - 2.5 * np.log10(meta['FLUX_W1'][ii])\n"
     ]
    },
    {
     "name": "stdout",
     "output_type": "stream",
     "text": [
      "INFO:io.py:967:read_basis_templates: Reading /global/project/projectdirs/desi/spectro/templates/basis_templates/v2.3/star_templates_v2.1.fits\n",
      "INFO:io.py:967:read_basis_templates: Reading /global/project/projectdirs/desi/spectro/templates/basis_templates/v2.3/star_templates_v2.1.fits\n",
      "DEBUG:simexp.py:379:simulate_spectra: loading specsim desi config\n",
      "DEBUG:simexp.py:383:simulate_spectra: creating specsim desi simulator\n",
      "DEBUG:specsim.py:39:get_simulator: Creating new  Simulator\n",
      "INFO:simexp.py:404:simulate_spectra: MJD not in obsconditions, using DATE-OBS 2009-06-18T12:00:00.000\n",
      "DEBUG:simexp.py:408:simulate_spectra: obsconditions EXPTIME = 1000\n",
      "DEBUG:simexp.py:408:simulate_spectra: obsconditions MOONFRAC = 0.0\n",
      "DEBUG:simexp.py:408:simulate_spectra: obsconditions SEEING = 1.1\n",
      "DEBUG:simexp.py:408:simulate_spectra: obsconditions MOONALT = -60\n",
      "DEBUG:simexp.py:408:simulate_spectra: obsconditions MOONSEP = 180\n",
      "DEBUG:simexp.py:408:simulate_spectra: obsconditions AIRMASS = 1.0\n",
      "DEBUG:simexp.py:611:get_source_types: qso 70 targets\n",
      "DEBUG:simexp.py:611:get_source_types: sky 20 targets\n",
      "DEBUG:simexp.py:611:get_source_types: star 10 targets\n",
      "DEBUG:simexp.py:449:simulate_spectra: running simulation with fastsim fiber loss method\n",
      "DEBUG:simexp.py:455:simulate_spectra: source types: 20 sky 10 star 70 qso\n",
      "INFO:io.py:155:write_simspec: DATE-OBS 2017-12-05T22:00:00 UTC\n",
      "INFO:io.py:231:write_simspec: Writing /global/project/projectdirs/desi/spectro/sim/alxogm/test_qso_only2/20171205/simspec-00000000.fits\n",
      "INFO:obs.py:210:new_exposure: Wrote /global/project/projectdirs/desi/spectro/sim/alxogm/test_qso_only2/20171205/fibermap-00000000.fits\n"
     ]
    }
   ],
   "source": [
    "'''Uncomment this lines if you want to generate  fibermap and simspec files to simulate the spectra, instead of using files \n",
    "previously generated'''\n",
    "sim, fibermap, meta, obsconditions = new_exposure('qso', nspec=nspec, seed=seed, night=night, \n",
    "                               expid=expid)"
   ]
  },
  {
   "cell_type": "markdown",
   "metadata": {},
   "source": [
    "Now that the fiber and simspec files were generated we proceed to simulate de spectra using quickgen function.\n",
    "NOTE: The quickspectra function is in github, but for some reason I can not see it from my instalation, I'll check if it is available in  NERSC. "
   ]
  },
  {
   "cell_type": "code",
   "execution_count": 8,
   "metadata": {},
   "outputs": [],
   "source": [
    "'''Uncomment this lines if you want to use the fibermap and simspec files generated in advance '''\n",
    "fiberfile = desispec.io.findfile('fibermap', night=night, expid=expid)\n",
    "simspecfile = desisim.io.findfile('simspec', night=night, expid=expid)"
   ]
  },
  {
   "cell_type": "markdown",
   "metadata": {},
   "source": [
    "\n"
   ]
  },
  {
   "cell_type": "code",
   "execution_count": 9,
   "metadata": {},
   "outputs": [
    {
     "name": "stdout",
     "output_type": "stream",
     "text": [
      "Reading fibermap file /global/project/projectdirs/desi/spectro/sim/alxogm/test_qso_only2/20171205/fibermap-00000000.fits\n",
      "Reading simspec file /global/project/projectdirs/desi/spectro/sim/alxogm/test_qso_only2/20171205/simspec-00000000.fits.\n"
     ]
    }
   ],
   "source": [
    "'''Uncomment this lines if you want to plot the redshift distribution generated by the previous result of \n",
    "a new_exposure function, otherwise just  plot the distribution in the next cell'''\n",
    "print('Reading fibermap file {}'.format(fiberfile))\n",
    "hdu = fits.open(fiberfile)      \n",
    "fibermap = Table(hdu['FIBERMAP'].data)\n",
    "hdu.close()\n",
    "print('Reading simspec file {}.'.format(simspecfile))\n",
    "hdu = fits.open(simspecfile)\n",
    "meta = Table(hdu['TRUTH'].data)\n",
    "hdu.close()"
   ]
  },
  {
   "cell_type": "code",
   "execution_count": 10,
   "metadata": {},
   "outputs": [
    {
     "data": {
      "text/plain": [
       "(-0.2, 4.3643213033676149)"
      ]
     },
     "execution_count": 10,
     "metadata": {},
     "output_type": "execute_result"
    },
    {
     "data": {
      "image/png": "[encoded data removed]",
      "text/plain": [
       "<matplotlib.figure.Figure at 0x2b25fe517b38>"
      ]
     },
     "metadata": {},
     "output_type": "display_data"
    }
   ],
   "source": [
    "allobjtype = meta['OBJTYPE']\n",
    "redlim = (-0.2, 1.1*meta['REDSHIFT'].max())\n",
    "fig, ax = plt.subplots()\n",
    "for objtype in sorted(set(allobjtype)):\n",
    "    indx = objtype == allobjtype\n",
    "    hh = ax.hist(meta['REDSHIFT'][indx], bins=25, \n",
    "                 label=objtype, alpha=0.5, range=redlim)\n",
    "    \n",
    "ax.set_xlabel('Redshift')\n",
    "ax.set_ylabel('Number of Simulated Spectra')\n",
    "ax.legend(loc='upper right', ncol=3)\n",
    "ax.margins(0.2)\n",
    "ax.set_xlim(redlim)"
   ]
  },
  {
   "cell_type": "code",
   "execution_count": 11,
   "metadata": {},
   "outputs": [
    {
     "name": "stdout",
     "output_type": "stream",
     "text": [
      "INFO:quickgen.py:239:main: Reading fibermap file /global/project/projectdirs/desi/spectro/sim/alxogm/test_qso_only2/20171205/fibermap-00000000.fits\n",
      "DEBUG:simexp.py:611:get_source_types: qso 70 targets\n",
      "DEBUG:simexp.py:611:get_source_types: sky 20 targets\n",
      "DEBUG:simexp.py:611:get_source_types: star 10 targets\n",
      "INFO:quickgen.py:272:main: Initializing SpecSim with config desi\n",
      "DEBUG:specsim.py:39:get_simulator: Creating new desi Simulator\n",
      "INFO:quickgen.py:278:main: Reading input file /global/project/projectdirs/desi/spectro/sim/alxogm/test_qso_only2/20171205/simspec-00000000.fits\n",
      "INFO:quickgen.py:675:main: Writing files for channel:b, spectrograph:0, spectra:0 to 100\n",
      "INFO:quickgen.py:702:main: Wrote file /global/project/projectdirs/desi/spectro/redux/alxogm/test_qso_only2/exposures/20171205/00000000/frame-b0-00000000.fits\n",
      "INFO:quickgen.py:720:main: Wrote file /global/project/projectdirs/desi/spectro/redux/alxogm/test_qso_only2/exposures/20171205/00000000/cframe-b0-00000000.fits\n",
      "INFO:quickgen.py:735:main: Wrote file /global/project/projectdirs/desi/spectro/redux/alxogm/test_qso_only2/exposures/20171205/00000000/sky-b0-00000000.fits\n",
      "INFO:quickgen.py:756:main: Wrote file /global/project/projectdirs/desi/spectro/redux/alxogm/test_qso_only2/exposures/20171205/00000000/calib-b0-00000000.fits\n",
      "INFO:quickgen.py:675:main: Writing files for channel:r, spectrograph:0, spectra:0 to 100\n"
     ]
    },
    {
     "name": "stderr",
     "output_type": "stream",
     "text": [
      "WARNING: VerifyWarning: Card is too long, comment will be truncated. [astropy.io.fits.card]\n"
     ]
    },
    {
     "name": "stdout",
     "output_type": "stream",
     "text": [
      "INFO:quickgen.py:702:main: Wrote file /global/project/projectdirs/desi/spectro/redux/alxogm/test_qso_only2/exposures/20171205/00000000/frame-r0-00000000.fits\n",
      "INFO:quickgen.py:720:main: Wrote file /global/project/projectdirs/desi/spectro/redux/alxogm/test_qso_only2/exposures/20171205/00000000/cframe-r0-00000000.fits\n",
      "INFO:quickgen.py:735:main: Wrote file /global/project/projectdirs/desi/spectro/redux/alxogm/test_qso_only2/exposures/20171205/00000000/sky-r0-00000000.fits\n",
      "INFO:quickgen.py:756:main: Wrote file /global/project/projectdirs/desi/spectro/redux/alxogm/test_qso_only2/exposures/20171205/00000000/calib-r0-00000000.fits\n",
      "INFO:quickgen.py:675:main: Writing files for channel:z, spectrograph:0, spectra:0 to 100\n",
      "INFO:quickgen.py:702:main: Wrote file /global/project/projectdirs/desi/spectro/redux/alxogm/test_qso_only2/exposures/20171205/00000000/frame-z0-00000000.fits\n",
      "INFO:quickgen.py:720:main: Wrote file /global/project/projectdirs/desi/spectro/redux/alxogm/test_qso_only2/exposures/20171205/00000000/cframe-z0-00000000.fits\n",
      "INFO:quickgen.py:735:main: Wrote file /global/project/projectdirs/desi/spectro/redux/alxogm/test_qso_only2/exposures/20171205/00000000/sky-z0-00000000.fits\n",
      "INFO:quickgen.py:756:main: Wrote file /global/project/projectdirs/desi/spectro/redux/alxogm/test_qso_only2/exposures/20171205/00000000/calib-z0-00000000.fits\n"
     ]
    }
   ],
   "source": [
    "#outdir_truth option seems not to work... \n",
    "args = quickgen.parse([\n",
    "    '--simspec', simspecfile,\n",
    "    '--fibermap', fiberfile,\n",
    "    '-n 100','--outdir-truth', desisim.io.simdir(),\n",
    "])\n",
    "quickgen.main(args)"
   ]
  },
  {
   "cell_type": "markdown",
   "metadata": {},
   "source": [
    "We have genereted the simmulated spectra, before analyzing them with redrock, we group them in the brick format "
   ]
  },
  {
   "cell_type": "code",
   "execution_count": 12,
   "metadata": {},
   "outputs": [
    {
     "name": "stdout",
     "output_type": "stream",
     "text": [
      "INFO:group_spectra.py:74:main: Starting at Tue Dec  5 07:13:34 2017\n",
      "INFO:group_spectra.py:75:main:   using raw dir /global/project/projectdirs/desi/spectro/sim/alxogm/test_qso_only2\n",
      "INFO:group_spectra.py:76:main:   using spectro production dir /global/project/projectdirs/desi/spectro/redux/alxogm/test_qso_only2\n",
      "INFO:group_spectra.py:197:main: Distributing 2 spectral groups among 1 processes\n",
      "INFO:group_spectra.py:220:main:   (0000) Begin spectral group spectra-64-12637 at Tue Dec  5 07:13:34 2017\n",
      "INFO:group_spectra.py:294:main:   (0000) End spectral group spectra-64-12637 at Tue Dec  5 07:14:56 2017\n",
      "INFO:group_spectra.py:220:main:   (0000) Begin spectral group spectra-64-12639 at Tue Dec  5 07:14:56 2017\n",
      "INFO:group_spectra.py:294:main:   (0000) End spectral group spectra-64-12639 at Tue Dec  5 07:15:16 2017\n",
      "INFO:group_spectra.py:301:main: Finishing at Tue Dec  5 07:15:16 2017\n"
     ]
    }
   ],
   "source": [
    "nside = 64\n",
    "args = group_spectra.parse(['--hpxnside', '{}'.format(nside),'--nights','{}'.format(night)])\n",
    "group_spectra.main(args)"
   ]
  },
  {
   "cell_type": "code",
   "execution_count": 15,
   "metadata": {},
   "outputs": [
    {
     "data": {
      "text/plain": [
       "'/global/project/projectdirs/desi/spectro/redux/alxogm/test_qso_only2/spectra-64/126/12637/spectra-64-12637.fits'"
      ]
     },
     "execution_count": 15,
     "metadata": {},
     "output_type": "execute_result"
    }
   ],
   "source": [
    "specfile = desispec.io.findfile('spectra', groupname='12637', nside=64)\n",
    "specfile"
   ]
  },
  {
   "cell_type": "code",
   "execution_count": 21,
   "metadata": {},
   "outputs": [
    {
     "name": "stdout",
     "output_type": "stream",
     "text": [
      "Running on a batch node:\n",
      "rrdesi /global/project/projectdirs/desi/spectro/redux/alxogm/test_qso_only2/spectra-64/126/12637/spectra-64-12637.fits --zbest /global/project/projectdirs/desi/spectro/redux/alxogm/test_qso_only2/spectra-64/126/12637/zbest-64-12637.fits\n",
      "\n",
      "INFO: reading targets\n",
      "INFO: reading templates\n",
      "INFO: Can't find redshift range info in template file /global/common/cori/contrib/desi/desiconda/current/code/redrock-templates/master/rrtemplate-star-A.fits, using default values\n",
      "INFO: Can't find redshift range info in template file /global/common/cori/contrib/desi/desiconda/current/code/redrock-templates/master/rrtemplate-star-B.fits, using default values\n",
      "INFO: Can't find redshift range info in template file /global/common/cori/contrib/desi/desiconda/current/code/redrock-templates/master/rrtemplate-star-M.fits, using default values\n",
      "INFO: Can't find redshift range info in template file /global/common/cori/contrib/desi/desiconda/current/code/redrock-templates/master/rrtemplate-galaxy.fits, using default values\n",
      "INFO: Can't find redshift range info in template file /global/common/cori/contrib/desi/desiconda/current/code/redrock-templates/master/rrtemplate-star-F.fits, using default values\n",
      "INFO: Can't find redshift range info in template file /global/common/cori/contrib/desi/desiconda/current/code/redrock-templates/master/rrtemplate-qso.fits, using default values\n",
      "INFO: Can't find redshift range info in template file /global/common/cori/contrib/desi/desiconda/current/code/redrock-templates/master/rrtemplate-star-K.fits, using default values\n",
      "INFO: Can't find redshift range info in template file /global/common/cori/contrib/desi/desiconda/current/code/redrock-templates/master/rrtemplate-star-G.fits, using default values\n",
      "INFO: using multiprocessing with 32 cores\n",
      "DEBUG: PID 9754 STAR:A zscan in 4.5 seconds\n",
      "DEBUG: PID 9754 STAR:A fitz in 2.3 seconds\n",
      "DEBUG: PID 9754 STAR:M zscan in 3.9 seconds\n",
      "DEBUG: PID 9754 STAR:M fitz in 2.5 seconds\n",
      "DEBUG: PID 9754 QSO zscan in 15.0 seconds\n",
      "DEBUG: PID 9754 QSO fitz in 3.0 seconds\n",
      "DEBUG: PID 9754 STAR:K zscan in 4.3 seconds\n",
      "DEBUG: PID 9754 STAR:K fitz in 2.3 seconds\n",
      "DEBUG: PID 9754 GALAXY zscan in 38.3 seconds\n",
      "DEBUG: PID 9754 GALAXY fitz in 5.0 seconds\n",
      "DEBUG: PID 9754 STAR:G zscan in 4.1 seconds\n",
      "DEBUG: PID 9754 STAR:G fitz in 2.4 seconds\n",
      "DEBUG: PID 9754 STAR:F zscan in 4.0 seconds\n",
      "DEBUG: PID 9754 STAR:F fitz in 2.3 seconds\n",
      "DEBUG: PID 9754 STAR:B zscan in 4.0 seconds\n",
      "DEBUG: PID 9754 STAR:B fitz in 2.3 seconds\n",
      "INFO: writing /global/project/projectdirs/desi/spectro/redux/alxogm/test_qso_only2/spectra-64/126/12637/zbest-64-12637.fits\n",
      "INFO: finished spectra-64-12637.fits in 112.3 seconds\n"
     ]
    }
   ],
   "source": [
    "zoutfile = '/global/project/projectdirs/desi/spectro/redux/alxogm/test_qso_only2/spectra-64/126/12637/zbest-64-12637.fits'\n",
    "cmd = 'rrdesi {} --zbest {}'.format(specfile, zoutfile)\n",
    "if 'NERSC_HOST' in os.environ:\n",
    "    print('Running on a batch node:')\n",
    "    print(cmd)\n",
    "    print()\n",
    "    srun = 'srun -A desi -N 1 -t 00:10:00 -C haswell --qos interactive'\n",
    "    cmd = '{srun} {cmd} --ncpu 32'.format(srun=srun, cmd=cmd)\n",
    "\n",
    "!$cmd\n",
    "\n",
    "\n",
    "    "
   ]
  },
  {
   "cell_type": "markdown",
   "metadata": {},
   "source": [
    "Next we analyze the redrock output by comparing the redshift histogram from the redrock output \n",
    "to that from the original fibermap and specsim files. If fibermap, simspec and redrock output was generated in a previous jupyter sesion, we can start the notebook in this point. We then should uncooment the following cell"
   ]
  },
  {
   "cell_type": "code",
   "execution_count": 17,
   "metadata": {},
   "outputs": [
    {
     "name": "stdout",
     "output_type": "stream",
     "text": [
      "Populating the interactive namespace from numpy and matplotlib\n",
      "DESIMODEL environment set to /global/common/cori/contrib/desi/desiconda/current/code/desimodel/master\n",
      "DESI_ROOT environment set to /global/project/projectdirs/desi\n",
      "DESI_SPECTRO_SIM environment set to /global/project/projectdirs/desi/spectro/sim\n",
      "DESI_SPECTRO_DATA environment set to /global/project/projectdirs/desi/spectro/sim/alxogm/test_qso_only2/\n",
      "DESI_SPECTRO_REDUX environment set to /global/project/projectdirs/desi/spectro/redux\n",
      "SPECPROD environment set to alxogm/test_qso_only2\n",
      "PIXPROD environment set to alxogm/test_qso_only2\n",
      "env: SPECPROD=alxogm/test_qso_only2\n",
      "env: PIXPROD=alxogm/test_qso_only2\n",
      "env: DESI_SPECTRO_DATA=/global/project/projectdirs/desi/spectro/sim/alxogm/test_qso_only2/\n",
      "/global/project/projectdirs/desi/spectro/redux/alxogm/test_qso_only2\r\n",
      "/global/project/projectdirs/desi/spectro/redux/alxogm/test_qso_only2/exposures\r\n",
      "/global/project/projectdirs/desi/spectro/redux/alxogm/test_qso_only2/exposures/20171205\r\n",
      "/global/project/projectdirs/desi/spectro/redux/alxogm/test_qso_only2/exposures/20171205/00000000\r\n",
      "/global/project/projectdirs/desi/spectro/redux/alxogm/test_qso_only2/exposures/20171205/00000000/calib-b0-00000000.fits\r\n",
      "/global/project/projectdirs/desi/spectro/redux/alxogm/test_qso_only2/exposures/20171205/00000000/calib-r0-00000000.fits\r\n",
      "/global/project/projectdirs/desi/spectro/redux/alxogm/test_qso_only2/exposures/20171205/00000000/calib-z0-00000000.fits\r\n",
      "/global/project/projectdirs/desi/spectro/redux/alxogm/test_qso_only2/exposures/20171205/00000000/cframe-b0-00000000.fits\r\n",
      "/global/project/projectdirs/desi/spectro/redux/alxogm/test_qso_only2/exposures/20171205/00000000/cframe-r0-00000000.fits\r\n",
      "/global/project/projectdirs/desi/spectro/redux/alxogm/test_qso_only2/exposures/20171205/00000000/cframe-z0-00000000.fits\r\n",
      "/global/project/projectdirs/desi/spectro/redux/alxogm/test_qso_only2/exposures/20171205/00000000/frame-b0-00000000.fits\r\n",
      "/global/project/projectdirs/desi/spectro/redux/alxogm/test_qso_only2/exposures/20171205/00000000/frame-r0-00000000.fits\r\n",
      "/global/project/projectdirs/desi/spectro/redux/alxogm/test_qso_only2/exposures/20171205/00000000/frame-z0-00000000.fits\r\n",
      "/global/project/projectdirs/desi/spectro/redux/alxogm/test_qso_only2/exposures/20171205/00000000/sky-b0-00000000.fits\r\n",
      "/global/project/projectdirs/desi/spectro/redux/alxogm/test_qso_only2/exposures/20171205/00000000/sky-r0-00000000.fits\r\n",
      "/global/project/projectdirs/desi/spectro/redux/alxogm/test_qso_only2/exposures/20171205/00000000/sky-z0-00000000.fits\r\n",
      "/global/project/projectdirs/desi/spectro/redux/alxogm/test_qso_only2/spectra-64\r\n",
      "/global/project/projectdirs/desi/spectro/redux/alxogm/test_qso_only2/spectra-64/126\r\n",
      "/global/project/projectdirs/desi/spectro/redux/alxogm/test_qso_only2/spectra-64/126/12637\r\n",
      "/global/project/projectdirs/desi/spectro/redux/alxogm/test_qso_only2/spectra-64/126/12637/spectra-64-12637.fits\r\n",
      "/global/project/projectdirs/desi/spectro/redux/alxogm/test_qso_only2/spectra-64/126/12637/zbest-12637.fits\r\n",
      "/global/project/projectdirs/desi/spectro/redux/alxogm/test_qso_only2/spectra-64/126/12639\r\n",
      "/global/project/projectdirs/desi/spectro/redux/alxogm/test_qso_only2/spectra-64/126/12639/spectra-64-12639.fits\r\n"
     ]
    },
    {
     "name": "stderr",
     "output_type": "stream",
     "text": [
      "/global/common/cori/contrib/desi/desiconda/20170613-1.1.4-spectro/code/desiconda/20170613-1.1.4-spectro_conda/lib/python3.5/site-packages/IPython/core/magics/pylab.py:160: UserWarning: pylab import has clobbered these variables: ['seed']\n",
      "`%matplotlib` prevents importing * from pylab and numpy\n",
      "  \"\\n`%matplotlib` prevents importing * from pylab and numpy\"\n"
     ]
    }
   ],
   "source": [
    "import os\n",
    "import matplotlib.pyplot as plt\n",
    "\n",
    "\n",
    "%pylab inline\n",
    "import numpy as np\n",
    "from astropy.io import fits\n",
    "from astropy.table import Table,vstack\n",
    "import desispec.io\n",
    "import desisim.io\n",
    "\n",
    "def check_env():\n",
    "    for env in ('DESIMODEL', 'DESI_ROOT', 'DESI_SPECTRO_SIM', 'DESI_SPECTRO_DATA', \n",
    "            'DESI_SPECTRO_REDUX', 'SPECPROD', 'PIXPROD'):\n",
    "        if env in os.environ:\n",
    "            print('{} environment set to {}'.format(env, os.getenv(env)))\n",
    "        else:\n",
    "            print('Required environment variable {} not set!'.format(env))\n",
    "check_env()\n",
    "\n",
    "%set_env SPECPROD=alxogm/test_qso_only2\n",
    "%set_env PIXPROD=alxogm/test_qso_only2\n",
    "rawdata_dir = desisim.io.simdir()\n",
    "%set_env DESI_SPECTRO_DATA=$rawdata_dir\n",
    "\n",
    "night = '20171205'\n",
    "expid = 0\n",
    "fiberfile = desispec.io.findfile('fibermap', night=night, expid=expid)\n",
    "simspecfile = desisim.io.findfile('simspec', night=night, expid=expid)\n",
    "reduxdir = desispec.io.specprod_root()\n",
    "!find $reduxdir | sort"
   ]
  },
  {
   "cell_type": "code",
   "execution_count": 18,
   "metadata": {},
   "outputs": [
    {
     "name": "stdout",
     "output_type": "stream",
     "text": [
      "Reading fibermap file /global/project/projectdirs/desi/spectro/sim/alxogm/test_qso_only2/20171205/fibermap-00000000.fits\n",
      "Reading simspec file /global/project/projectdirs/desi/spectro/sim/alxogm/test_qso_only2/20171205/simspec-00000000.fits.\n"
     ]
    }
   ],
   "source": [
    "print('Reading fibermap file {}'.format(fiberfile))\n",
    "hdu = fits.open(fiberfile)\n",
    "fibermap = Table(hdu['FIBERMAP'].data)\n",
    "hdu.close()\n",
    "print('Reading simspec file {}.'.format(simspecfile))\n",
    "hdu = fits.open(simspecfile)\n",
    "meta = Table(hdu['TRUTH'].data)\n",
    "hdu.close()\n"
   ]
  },
  {
   "cell_type": "code",
   "execution_count": 22,
   "metadata": {},
   "outputs": [],
   "source": [
    "specfile = desispec.io.findfile('spectra', groupname='12637', nside=64)\n",
    "zbestfile = desispec.io.findfile('zbest', groupname='12637', nside=64)\n",
    "spectra = desispec.io.read_spectra(specfile)\n",
    "zbest = Table.read(zbestfile)\n",
    "#print (len(zbest))"
   ]
  },
  {
   "cell_type": "markdown",
   "metadata": {},
   "source": [
    "Lets use the TARGETID's from zbest to look for them in the fibermap to get the true REDSHIFT and SPECTYPE of such sources. We save that in  the ztruth table."
   ]
  },
  {
   "cell_type": "code",
   "execution_count": 23,
   "metadata": {},
   "outputs": [],
   "source": [
    "ztruth=meta[fibermap['TARGETID']==zbest['TARGETID'][0]]\n",
    "\n",
    "for i in range(1,len(zbest)):\n",
    "    tmp=meta[fibermap['TARGETID']==zbest['TARGETID'][i]]\n",
    "    ztruth=vstack([ztruth,tmp])\n"
   ]
  },
  {
   "cell_type": "markdown",
   "metadata": {},
   "source": [
    "Now we make the histogram of sources at a given redshift for both the sources in zbest, and fibermap. Ideally these should look like the same. "
   ]
  },
  {
   "cell_type": "code",
   "execution_count": 28,
   "metadata": {},
   "outputs": [
    {
     "name": "stdout",
     "output_type": "stream",
     "text": [
      "zbest results from Redrock on /global/project/projectdirs/desi/spectro/redux/alxogm/test_qso_only2/spectra-64/126/12637/zbest-64-12637.fits\n",
      "GALAXY : 24.0\n",
      "QSO : 43.0\n",
      "STAR : 8.0\n",
      "Ztruth the /global/project/projectdirs/desi/spectro/sim/alxogm/test_qso_only2/20171205/simspec-00000000.fits file\n",
      "FSTD : 8.0\n",
      "QSO : 52.0\n",
      "SKY : 15.0\n"
     ]
    },
    {
     "data": {
      "text/plain": [
       "<matplotlib.legend.Legend at 0x2b25e9392e80>"
      ]
     },
     "execution_count": 28,
     "metadata": {},
     "output_type": "execute_result"
    },
    {
     "data": {
      "image/png": "[encoded data removed]",
      "text/plain": [
       "<matplotlib.figure.Figure at 0x2b25e9885400>"
      ]
     },
     "metadata": {},
     "output_type": "display_data"
    }
   ],
   "source": [
    "fig.clear()\n",
    "fig, ax = plt.subplots(2,1,figsize=(10,10))\n",
    "\n",
    "print('zbest results from Redrock on {}'.format(zbestfile))\n",
    "for spectype in sorted(set(zbest['SPECTYPE'])):\n",
    "    if spectype=='STAR':\n",
    "        color='orangered'\n",
    "    if spectype=='GALAXY':\n",
    "        color='b'\n",
    "    if spectype=='QSO':\n",
    "        color='g'\n",
    "    jj = (zbest['SPECTYPE'] == spectype)\n",
    "   # print(spectype,':',sum(hist(zbest['Z'][jj], 25, (-0.1,4.4))[0]))\n",
    "    nhist=ax[0].hist(zbest['Z'][jj], 25, (-0.1,4.4),color=color,label=format(spectype),alpha=0.5)[0]\n",
    "    print(spectype,':',sum(nhist))\n",
    "\n",
    "\n",
    "    ax[0].set_ylim(0,10)\n",
    "ax[0].set_title('Redrock output (group=12637)')\n",
    "\n",
    "print('Ztruth the {} file'.format(simspecfile))\n",
    "\n",
    "allobjtype = meta['OBJTYPE']\n",
    "for objtype in sorted(set(allobjtype)):\n",
    "    if objtype=='FSTD':\n",
    "        color='b'\n",
    "    if objtype=='SKY':\n",
    "        color='orangered'\n",
    "    if objtype=='QSO':\n",
    "        color='green'\n",
    "       # ax[0].hist(ztruth['REDSHIFT'][ii],25,(-0.1,4.4),color='black',label='true'+format(objtype),alpha=0.5)[0]\n",
    "\n",
    "\n",
    "    ii = (ztruth['OBJTYPE'] == objtype)\n",
    "    if objtype=='QSO':\n",
    "        ax[0].hist(ztruth['REDSHIFT'][ii],25,(-0.1,4.4),color='black',label='true'+format(objtype),alpha=0.5)[0]\n",
    "    \n",
    "    nhist=ax[1].hist(ztruth['REDSHIFT'][ii],25,(-0.1,4.4),color=color,label=format(objtype),alpha=0.5)[0]\n",
    "    ax[1].set_ylim(0,10)\n",
    "    print(objtype,':',sum(nhist))\n",
    "ax[1].set_title('Truth redshift distribution (specsim & fibermap)')\n",
    "fig.subplots_adjust(hspace=0.2)\n",
    "ax[0].legend(loc='upper right')\n",
    "ax[1].legend(loc='upper right')\n",
    "\n",
    "\n",
    "\n",
    "\n",
    "\n",
    "    \n",
    "\n"
   ]
  },
  {
   "cell_type": "markdown",
   "metadata": {},
   "source": [
    "TODO: make a larger sample, and analyze the failures..."
   ]
  },
  {
   "cell_type": "code",
   "execution_count": 30,
   "metadata": {},
   "outputs": [
    {
     "data": {
      "text/plain": [
       "<matplotlib.collections.PathCollection at 0x2b25e9ef19b0>"
      ]
     },
     "execution_count": 30,
     "metadata": {},
     "output_type": "execute_result"
    },
    {
     "data": {
      "image/png": "[encoded data removed]",
      "text/plain": [
       "<matplotlib.figure.Figure at 0x2b25f9e04748>"
      ]
     },
     "metadata": {},
     "output_type": "display_data"
    }
   ],
   "source": [
    "scatter(zbest['Z'],ztruth['REDSHIFT'])"
   ]
  },
  {
   "cell_type": "code",
   "execution_count": 49,
   "metadata": {},
   "outputs": [
    {
     "name": "stderr",
     "output_type": "stream",
     "text": [
      "/global/common/cori/contrib/desi/desiconda/20170613-1.1.4-spectro/code/desiconda/20170613-1.1.4-spectro_conda/lib/python3.5/site-packages/ipykernel/__main__.py:1: RuntimeWarning: divide by zero encountered in log10\n",
      "  if __name__ == '__main__':\n"
     ]
    },
    {
     "data": {
      "text/plain": [
       "<matplotlib.collections.PathCollection at 0x2b25e9a023c8>"
      ]
     },
     "execution_count": 49,
     "metadata": {},
     "output_type": "execute_result"
    },
    {
     "data": {
      "image/png": "[encoded data removed]",
      "text/plain": [
       "<matplotlib.figure.Figure at 0x2b25f9b5f828>"
      ]
     },
     "metadata": {},
     "output_type": "display_data"
    }
   ],
   "source": [
    "mag_g = 22.5 - 2.5 * np.log10(ztruth['FLUX_G'])\n",
    "plt.scatter(mag_g,ztruth['REDSHIFT']-zbest['Z'])"
   ]
  },
  {
   "cell_type": "code",
   "execution_count": null,
   "metadata": {},
   "outputs": [],
   "source": []
  }
 ],
 "metadata": {
  "anaconda-cloud": {},
  "kernelspec": {
   "display_name": "DESI master",
   "language": "python",
   "name": "desi-master"
  },
  "language_info": {
   "codemirror_mode": {
    "name": "ipython",
    "version": 3
   },
   "file_extension": ".py",
   "mimetype": "text/x-python",
   "name": "python",
   "nbconvert_exporter": "python",
   "pygments_lexer": "ipython3",
   "version": "3.5.3"
  }
 },
 "nbformat": 4,
 "nbformat_minor": 2
}
