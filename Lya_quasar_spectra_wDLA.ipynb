{
 "cells": [
  {
   "cell_type": "markdown",
   "metadata": {},
   "source": [
    "# Quasar spectra using qso.make_templates\n",
    "The goal of this notebook is to generate a set of quasar spectra simulations, that are then analized with redrock to classify and get the redshift. \n",
    "\n",
    "We assume that desi code is installed as described in :\n",
    "https://desi.lbl.gov/trac/wiki/Pipeline/GettingStarted/Laptop/JuneMeeting\n",
    "And this uses the Master Branch"
   ]
  },
  {
   "cell_type": "code",
   "execution_count": 1,
   "metadata": {},
   "outputs": [
    {
     "name": "stdout",
     "output_type": "stream",
     "text": [
      "Populating the interactive namespace from numpy and matplotlib\n"
     ]
    }
   ],
   "source": [
    "%pylab inline\n",
    "import os\n",
    "import matplotlib.pyplot as plt\n",
    "\n",
    "\n",
    "\n",
    "import numpy as np\n",
    "from astropy.io import fits\n",
    "from astropy.table import Table\n",
    "import desispec.io\n",
    "import desisim.io\n"
   ]
  },
  {
   "cell_type": "code",
   "execution_count": 2,
   "metadata": {},
   "outputs": [],
   "source": [
    "from scipy.signal import medfilt\n",
    "def plotspec(spectra, i, truewave=None, trueflux=None, nfilter=11):\n",
    "    plt.plot(spectra.wave['b'], medfilt(spectra.flux['b'][i], nfilter), 'b', alpha=0.5)\n",
    "    plt.plot(spectra.wave['r'], medfilt(spectra.flux['r'][i], nfilter), 'r', alpha=0.5)\n",
    "    plt.plot(spectra.wave['z'], medfilt(spectra.flux['z'][i], nfilter), 'k', alpha=0.5)\n",
    "    if truewave is not None and trueflux is not None:\n",
    "        plt.plot(truewave, trueflux[i], 'k-')\n",
    "\n",
    "    plt.axhline(0, color='k', alpha=0.2)\n",
    "        \n",
    "    ymin = ymax = 0.0\n",
    "    for x in ['b', 'r', 'z']:\n",
    "        tmpmin, tmpmax = np.percentile(spectra.flux['r'][i], [1, 99])\n",
    "        ymin = min(tmpmin, ymin)\n",
    "        ymax = max(tmpmax, ymax)\n",
    "        \n",
    "    plt.ylim(ymin, ymax)\n",
    "    plt.ylabel('flux [1e-17 erg/s/cm2/A]')\n",
    "    plt.xlabel('wavelength [A]')\n",
    "    plt.xlim(3000, 6300)"
   ]
  },
  {
   "cell_type": "markdown",
   "metadata": {},
   "source": [
    "## Environment variables and data\n",
    "\n",
    "We will specify the enviroment variables, specially where to find the DESI spectra templates, and where do we want to save the simulated spectra. Then check enviroment variables. I assumes the desi enviroment is already set. "
   ]
  },
  {
   "cell_type": "code",
   "execution_count": 3,
   "metadata": {},
   "outputs": [
    {
     "name": "stdout",
     "output_type": "stream",
     "text": [
      "DESIMODEL environment set to /global/common/software/desi/cori/desiconda/current/code/desimodel/master\n",
      "DESI_ROOT environment set to /global/project/projectdirs/desi\n",
      "DESI_SPECTRO_SIM environment set to /global/project/projectdirs/desi/spectro/sim\n",
      "DESI_SPECTRO_DATA environment set to /global/project/projectdirs/desi/spectro/data\n",
      "DESI_SPECTRO_REDUX environment set to /global/project/projectdirs/desi/spectro/redux\n",
      "SPECPROD environment set to alxogm\n",
      "PIXPROD environment set to alxogm\n",
      "env: SPECPROD=alxogm/Lya_test\n",
      "env: PIXPROD=alxogm/Lya_test\n",
      "env: DESI_SPECTRO_DATA=/global/project/projectdirs/desi/spectro/sim/alxogm/Lya_test/\n",
      "Simulated raw data will be written to /global/project/projectdirs/desi/spectro/sim/alxogm/Lya_test/\n",
      "Pipeline will read raw data from /global/project/projectdirs/desi/spectro/sim/alxogm/Lya_test/\n",
      "    (without knowing that it was simulated)\n",
      "Pipeline will write processed data to /global/project/projectdirs/desi/spectro/redux/alxogm/Lya_test\n"
     ]
    }
   ],
   "source": [
    "def check_env():\n",
    "    for env in ('DESIMODEL', 'DESI_ROOT', 'DESI_SPECTRO_SIM', 'DESI_SPECTRO_DATA', \n",
    "            'DESI_SPECTRO_REDUX', 'SPECPROD', 'PIXPROD'):\n",
    "        if env in os.environ:\n",
    "            print('{} environment set to {}'.format(env, os.getenv(env)))\n",
    "        else:\n",
    "            print('Required environment variable {} not set!'.format(env))\n",
    "            \n",
    "check_env()\n",
    "\n",
    "%set_env SPECPROD=alxogm/Lya_test\n",
    "%set_env PIXPROD=alxogm/Lya_test\n",
    "rawdata_dir = desisim.io.simdir()\n",
    "%set_env DESI_SPECTRO_DATA=$rawdata_dir\n",
    "\n",
    "print('Simulated raw data will be written to {}'.format(desisim.io.simdir()))\n",
    "print('Pipeline will read raw data from {}'.format(desispec.io.rawdata_root()))\n",
    "print('    (without knowing that it was simulated)')\n",
    "print('Pipeline will write processed data to {}'.format(desispec.io.specprod_root()))"
   ]
  },
  {
   "cell_type": "code",
   "execution_count": 4,
   "metadata": {},
   "outputs": [],
   "source": [
    "from desisim.templates import QSO\n",
    "\n",
    "seed = 125\n",
    "nmodel = 100"
   ]
  },
  {
   "cell_type": "code",
   "execution_count": 5,
   "metadata": {},
   "outputs": [],
   "source": [
    "qso = QSO(minwave=3000, maxwave=5e4)"
   ]
  },
  {
   "cell_type": "code",
   "execution_count": 6,
   "metadata": {},
   "outputs": [],
   "source": [
    "from desisim import lya_spectra "
   ]
  },
  {
   "cell_type": "code",
   "execution_count": 7,
   "metadata": {},
   "outputs": [],
   "source": [
    "lya_spectra?"
   ]
  },
  {
   "cell_type": "code",
   "execution_count": 8,
   "metadata": {},
   "outputs": [],
   "source": [
    "from desisim.templates import QSO\n",
    "\n",
    "seed = 125\n",
    "nmodel =1"
   ]
  },
  {
   "cell_type": "code",
   "execution_count": 16,
   "metadata": {},
   "outputs": [],
   "source": [
    "qso = QSO(minwave=3000, maxwave=5e4)\n",
    "\n",
    "flux_, wave_, meta_ = qso.make_templates(nmodel=nmodel, zrange=(2.0, 4.0), seed=seed, \n",
    "                                      nocolorcuts=True, lyaforest=True)"
   ]
  },
  {
   "cell_type": "code",
   "execution_count": 17,
   "metadata": {},
   "outputs": [
    {
     "data": {
      "text/html": [
       "&lt;Column name=&apos;REDSHIFT&apos; dtype=&apos;float64&apos; length=1&gt;\n",
       "<table>\n",
       "<tr><td>3.96394831028</td></tr>\n",
       "</table>"
      ],
      "text/plain": [
       "<Column name='REDSHIFT' dtype='float64' length=1>\n",
       "3.96394831028"
      ]
     },
     "execution_count": 17,
     "metadata": {},
     "output_type": "execute_result"
    }
   ],
   "source": [
    "meta_['REDSHIFT']"
   ]
  },
  {
   "cell_type": "code",
   "execution_count": 18,
   "metadata": {},
   "outputs": [],
   "source": [
    "from desisim.dla import insert_dlas\n",
    "if np.min(wave_/1215.67 - 1) < meta_['REDSHIFT']: # Any forest?\n",
    "    dlas, dla_model = insert_dlas(wave_, meta_['REDSHIFT'], seed=seed)\n",
    "    ndla = len(dlas)\n",
    "    if ndla > 0:\n",
    "        flux_ *= dla_model\n",
    "        # Meta\n",
    "        dla_z += [idla['z'] for idla in dlas]\n",
    "        dla_NHI += [idla['N'] for idla in dlas]\n",
    "        dla_id += [indx]*ndla"
   ]
  },
  {
   "cell_type": "code",
   "execution_count": 19,
   "metadata": {},
   "outputs": [],
   "source": [
    "simdir = rawdata_dir+'desi/simspec'\n",
    "infile = simdir + '/qso-adddla-spectra_.fits'\n",
    "hdr = fits.Header()\n",
    "hdr['EXTNAME'] = 'WAVELENGTH'\n",
    "hdr['BUNIT'] = 'Angstrom'\n",
    "fits.writeto(infile, wave_, header=hdr, clobber=True)\n",
    "hdr['EXTNAME'] = 'FLUX'\n",
    "hdr['BUNIT'] = '10^-17 ergs/s/cm2/A'\n",
    "fits.append(infile, flux_, header=hdr)\n",
    "hdr['EXTNAME']='META'\n",
    "fits.append(infile, np.asarray(meta_), header=hdr)"
   ]
  },
  {
   "cell_type": "code",
   "execution_count": 20,
   "metadata": {},
   "outputs": [
    {
     "name": "stdout",
     "output_type": "stream",
     "text": [
      "quickspectra -i /global/project/projectdirs/desi/spectro/sim/alxogm/Lya_test/desi/simspec/qso-adddla-spectra_.fits -o /global/project/projectdirs/desi/spectro/sim/alxogm/Lya_test/desi/simspec/qso-dla-spectra.fits\n",
      "INFO:quickspectra.py:301:main: Reading an input FITS file\n",
      "INFO:quickspectra.py:336:main: input flux shape = (1, 235001)\n",
      "INFO:quickspectra.py:59:sim_spectra: Starting simulation of 1 spectra\n",
      "DEBUG:simexp.py:408:simulate_spectra: loading specsim desi config desi\n",
      "DEBUG:simexp.py:412:simulate_spectra: creating specsim desi simulator\n",
      "/global/common/software/desi/cori/desiconda/20180130-1.2.4-spec/conda/lib/python3.6/site-packages/astropy/table/column.py:1096: MaskedArrayFutureWarning: setting an item on a masked array which has a shared mask will not copy the mask and also change the original mask array in the future.\n",
      "Check the NumPy 1.11 release notes for more information.\n",
      "  ma.MaskedArray.__setitem__(self, index, value)\n",
      "INFO:simexp.py:434:simulate_spectra: MJD not in obsconditions, using DATE-OBS 2009-06-18T12:00:00.000\n",
      "DEBUG:simexp.py:438:simulate_spectra: obsconditions SEEING = 1.1\n",
      "DEBUG:simexp.py:438:simulate_spectra: obsconditions EXPTIME = 1000.0\n",
      "DEBUG:simexp.py:438:simulate_spectra: obsconditions AIRMASS = 1.0\n",
      "DEBUG:simexp.py:438:simulate_spectra: obsconditions MOONFRAC = 0.0\n",
      "DEBUG:simexp.py:438:simulate_spectra: obsconditions MOONALT = -60\n",
      "DEBUG:simexp.py:438:simulate_spectra: obsconditions MOONSEP = 180\n",
      "DEBUG:simexp.py:668:get_source_types: star 1 targets\n",
      "DEBUG:simexp.py:478:simulate_spectra: running simulation with fastsim fiber loss method\n",
      "DEBUG:simexp.py:484:simulate_spectra: source types: 1 star\n",
      "INFO:quickspectra.py:219:sim_spectra: Wrote /global/project/projectdirs/desi/spectro/sim/alxogm/Lya_test/desi/simspec/qso-dla-spectra.fits\n"
     ]
    }
   ],
   "source": [
    "specoutfile_dla='/global/project/projectdirs/desi/spectro/sim/alxogm/Lya_test/desi/simspec/qso-dla-spectra.fits'\n",
    "cmd = 'quickspectra -i {} -o {}'.format(infile, specoutfile_dla)\n",
    "print(cmd)\n",
    "!$cmd"
   ]
  },
  {
   "cell_type": "code",
   "execution_count": 21,
   "metadata": {},
   "outputs": [],
   "source": [
    "spectra_dla = desispec.io.read_spectra(specoutfile_dla)"
   ]
  },
  {
   "cell_type": "code",
   "execution_count": 22,
   "metadata": {},
   "outputs": [
    {
     "data": {
      "image/png": "[encoded data removed]",
      "text/plain": [
       "<matplotlib.figure.Figure at 0x2b1afdb6ca20>"
      ]
     },
     "metadata": {},
     "output_type": "display_data"
    }
   ],
   "source": [
    "plt.figure(figsize=(12,9))\n",
    "for i in range(1):\n",
    "    plotspec(spectra_dla, i, wave_, flux_)"
   ]
  },
  {
   "cell_type": "code",
   "execution_count": null,
   "metadata": {},
   "outputs": [],
   "source": []
  }
 ],
 "metadata": {
  "anaconda-cloud": {},
  "kernelspec": {
   "display_name": "DESI master",
   "language": "python",
   "name": "desi-master"
  },
  "language_info": {
   "codemirror_mode": {
    "name": "ipython",
    "version": 3
   },
   "file_extension": ".py",
   "mimetype": "text/x-python",
   "name": "python",
   "nbconvert_exporter": "python",
   "pygments_lexer": "ipython3",
   "version": "3.6.4"
  }
 },
 "nbformat": 4,
 "nbformat_minor": 2
}
